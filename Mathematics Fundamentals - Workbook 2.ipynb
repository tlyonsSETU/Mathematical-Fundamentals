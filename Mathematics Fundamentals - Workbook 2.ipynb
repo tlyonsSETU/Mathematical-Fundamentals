{
  "cells": [
    {
      "cell_type": "markdown",
      "metadata": {
        "id": "view-in-github",
        "colab_type": "text"
      },
      "source": [
        "<a href=\"https://colab.research.google.com/github/tlyonsSETU/Mathematical-Fundamentals/blob/main/Mathematics%20Fundamentals%20-%20Workbook%202.ipynb\" target=\"_parent\"><img src=\"https://colab.research.google.com/assets/colab-badge.svg\" alt=\"Open In Colab\"/></a>"
      ]
    },
    {
      "cell_type": "markdown",
      "metadata": {
        "collapsed": true,
        "id": "c_3_zOKaqFM_"
      },
      "source": [
        "# Mathematics Fundamentals - Python Workbook 2\n",
        "\n",
        "## BSc Computing (ACCS) - Year 1\n",
        "\n",
        "# South East Technological University - Waterford\n",
        "\n",
        "---\n"
      ]
    },
    {
      "cell_type": "markdown",
      "metadata": {
        "id": "01mAAaYV5WAM"
      },
      "source": [
        "# Topics - Matrices and Vectors\n",
        "## Items Covered:\n",
        "\n",
        "1. Interpreting $2\\times 2$ matrices in 2D\n",
        "\n",
        "\n"
      ]
    },
    {
      "cell_type": "markdown",
      "metadata": {
        "id": "mmWPdMeCqFNH"
      },
      "source": [
        "## Calling the python libraries and functions\n",
        "\n",
        "\n",
        "* In the cell below the necessary Python libraries and functions are imported, which will be needed for the current work book\n"
      ]
    },
    {
      "cell_type": "code",
      "execution_count": 2,
      "metadata": {
        "id": "7Qk8SxWnqFNJ"
      },
      "outputs": [],
      "source": [
        "import matplotlib.pyplot as plt  ## Library of functions for 2D plotting\n",
        "import numpy as np ## Library of function for numerical work\n",
        "\n",
        "from mpl_toolkits.mplot3d import Axes3D # Import the functions for creating 3D plots\n",
        "\n",
        "from ipywidgets import widgets, interact, interactive, fixed, interact_manual # Import widgets for interactive plots\n",
        "from IPython.display import clear_output # A function to clear interactive plots before each update\n",
        "\n",
        "from matplotlib import animation # A function to create an animation\n",
        "from IPython.display import HTML # For creating HTML animation whcih can be displayed directly in the browser / Colab notebook\n",
        "\n",
        "from scipy.linalg import eig  # Import the scipy function for calculating eigenvalues and eigenvectors"
      ]
    },
    {
      "cell_type": "markdown",
      "metadata": {
        "id": "-AxgXKv9mDvM"
      },
      "source": [
        "## Some useful function definitions\n",
        "\n",
        "### __v2d(a,b)__\n",
        "\n",
        "* A function for creating 2D-vectors"
      ]
    },
    {
      "cell_type": "code",
      "execution_count": 3,
      "metadata": {
        "id": "LizJ0Uv6mRwU"
      },
      "outputs": [],
      "source": [
        "def v2d(a,b):\n",
        "    return np.array([a,b])"
      ]
    },
    {
      "cell_type": "markdown",
      "metadata": {
        "id": "BO3oRjC-mYxc"
      },
      "source": [
        "### __M2(a,b,c,d)__\n",
        "A function to create a __2x2 matrix__ of the form\n",
        "$$\n",
        "\\begin{bmatrix}\n",
        "a & b \\\\ c & d\n",
        "\\end{bmatrix}\n",
        "$$"
      ]
    },
    {
      "cell_type": "code",
      "execution_count": 4,
      "metadata": {
        "id": "d07pGZucmuPw"
      },
      "outputs": [],
      "source": [
        "def M2(a,b,c,d):\n",
        "    return np.array([[a , b] , [c , d]])"
      ]
    },
    {
      "cell_type": "markdown",
      "metadata": {
        "id": "YhxuRyUeTR3V"
      },
      "source": [
        "__l(u)__\n",
        "\n",
        "A function to calculate the norm of a 2D vector $\\vec{u}$"
      ]
    },
    {
      "cell_type": "code",
      "execution_count": 5,
      "metadata": {
        "id": "T4-c4tqWTdF0"
      },
      "outputs": [],
      "source": [
        "def L(u):\n",
        "    return np.sqrt(u.dot(u))"
      ]
    },
    {
      "cell_type": "markdown",
      "metadata": {
        "id": "RiZg8t2Spc80"
      },
      "source": [
        "### __Rtn(t)__\n",
        "A function the create a rotation vector with __t__ a rotation angle in __degrees__"
      ]
    },
    {
      "cell_type": "code",
      "execution_count": 6,
      "metadata": {
        "id": "9ywhyGEJpp-0"
      },
      "outputs": [],
      "source": [
        "def R2(t):\n",
        "    r=np.radians(t)\n",
        "    c=np.cos(r)\n",
        "    s=np.sin(r)\n",
        "    return np.array([[c , -s] , [s , c]])"
      ]
    },
    {
      "cell_type": "markdown",
      "metadata": {
        "id": "og4C62HQ560Q"
      },
      "source": [
        "---"
      ]
    },
    {
      "cell_type": "markdown",
      "metadata": {
        "id": "HDD5YydnnHoy"
      },
      "source": [
        "# Item 1 - Interpreting vectors in 2D\n",
        "\n",
        "* Given a matrix of the form\n",
        "$$\n",
        "\\mathbf{M} = \\begin{bmatrix} a & b \\\\ c & d\\end{bmatrix}\n",
        "$$\n",
        "and a 2D vector of the form\n",
        "$$\n",
        "\\vec{u} = \\begin{bmatrix} u_{1} \\\\ u_{2}\\end{bmatrix}\n",
        "$$\n",
        "we can form the new vector\n",
        "$$\n",
        "\\vec{v} = \\mathbf{M}.\\vec{u}\n",
        "=\n",
        "\\begin{bmatrix} a & b \\\\ c & d\\end{bmatrix}\n",
        "\\begin{bmatrix} u_{1} \\\\ u_{2} \\end{bmatrix}\n",
        "=\n",
        "\\begin{bmatrix}\n",
        "a u_{1} + b u_{2} \\\\ c u_{1} + d u_{2}\n",
        "\\end{bmatrix}\n",
        "$$\n",
        "\n",
        "\\\\\n",
        "\n",
        "* The effect of this multiplication is usually to stretch (or shrink) & rotate the matrix $\\vec{u}$ to the vector $\\vec{v}$\n",
        "\n",
        "\\\\\n",
        "\n",
        "* There are exceptions to this interpretation, for instance, the __eigenvectors__ of the matrix __M__ are only re-scaled by the matrix multiplication\n",
        "\n",
        "\n",
        "\\\\\n",
        "\n",
        "* There are also matrices of the form\n",
        "$$\n",
        "\\mathbf{R} =\n",
        "\\begin{bmatrix}\n",
        "\\cos(\\theta) & -\\sin(\\theta) \\\\ \\sin(\\theta) & \\cos(\\theta)\n",
        "\\end{bmatrix}\n",
        "$$\n",
        "which __rotates__ the vector __$\\vec{u}$__ by an angle $\\theta$"
      ]
    },
    {
      "cell_type": "markdown",
      "metadata": {
        "id": "4lubyrogt_cA"
      },
      "source": [
        "## __Example__ 1\n",
        "\n",
        "Given the matrices\n",
        "$$\n",
        "\\mathbf{M} =\n",
        "\\begin{bmatrix}\n",
        "-1 & 3 \\\\ 2 & 1\n",
        "\\end{bmatrix}\n",
        "\\qquad\n",
        "\\mathbf{R} =\n",
        "\\begin{bmatrix}\n",
        "\\cos(45) & -\\sin(45) \\\\ \\sin(45) & \\cos(45)\n",
        "\\end{bmatrix}\n",
        "$$\n",
        "and the vector $\\vec{u} = \\begin{bmatrix} 2 \\\\ 5\\end{bmatrix}$\n",
        "\n",
        "\\\\\n",
        "\n",
        "__i)__ Calculate the matrices $\\vec{v}=\\mathbf{M}.\\vec{u}$ and $\\vec{w} = \\mathbf{R}.\\vec{u}$\n",
        "\n",
        "__ii)__ Plot the vectors $\\vec{u}$, $\\vec{v}$ and $\\vec{w}$"
      ]
    },
    {
      "cell_type": "markdown",
      "metadata": {
        "id": "9f0zVBnivQVE"
      },
      "source": [
        "### __Solution__\n",
        "\n",
        "__Part i)__\n",
        "\n",
        "* The vector $\\vec{u}$ is created with __v2d()__, while the matrix $\\mathbf{M}$ is created using __M2()__ and the rotation matrix $\\mathbf{R}$ is created using __R2()__"
      ]
    },
    {
      "cell_type": "code",
      "execution_count": 7,
      "metadata": {
        "colab": {
          "base_uri": "https://localhost:8080/"
        },
        "id": "nRqNNI-juchl",
        "outputId": "07d71d21-724f-488e-b74d-b3257c318bba"
      },
      "outputs": [
        {
          "output_type": "execute_result",
          "data": {
            "text/plain": [
              "array([2, 5])"
            ]
          },
          "metadata": {},
          "execution_count": 7
        }
      ],
      "source": [
        "u=v2d(2,5)\n",
        "u"
      ]
    },
    {
      "cell_type": "code",
      "execution_count": 10,
      "metadata": {
        "colab": {
          "base_uri": "https://localhost:8080/"
        },
        "id": "ortUPnjHvl70",
        "outputId": "38614de6-deac-4cb5-db06-6f57ac4a9c3c"
      },
      "outputs": [
        {
          "output_type": "execute_result",
          "data": {
            "text/plain": [
              "array([[-1,  3],\n",
              "       [ 2,  1]])"
            ]
          },
          "metadata": {},
          "execution_count": 10
        }
      ],
      "source": [
        "M=M2(-1,3,2,1)\n",
        "M"
      ]
    },
    {
      "cell_type": "code",
      "execution_count": 8,
      "metadata": {
        "colab": {
          "base_uri": "https://localhost:8080/"
        },
        "id": "Ihuhi_7Zvsm0",
        "outputId": "ac9adb23-8bf8-48a1-8b1a-3c86922c1bd8"
      },
      "outputs": [
        {
          "output_type": "execute_result",
          "data": {
            "text/plain": [
              "array([[ 0.70710678, -0.70710678],\n",
              "       [ 0.70710678,  0.70710678]])"
            ]
          },
          "metadata": {},
          "execution_count": 8
        }
      ],
      "source": [
        "R=R2(45)\n",
        "R"
      ]
    },
    {
      "cell_type": "code",
      "execution_count": null,
      "metadata": {
        "id": "tpIM9ivuvwks"
      },
      "outputs": [],
      "source": []
    },
    {
      "cell_type": "markdown",
      "metadata": {
        "id": "TBWG7KV8v1BF"
      },
      "source": [
        "* The matrices $\\vec{v}$ and $\\vec{w}$ are created using the __dot()__ function"
      ]
    },
    {
      "cell_type": "code",
      "execution_count": 11,
      "metadata": {
        "colab": {
          "base_uri": "https://localhost:8080/"
        },
        "id": "51F4jMyov7Hs",
        "outputId": "04441899-238e-4904-e120-558cede04872"
      },
      "outputs": [
        {
          "output_type": "execute_result",
          "data": {
            "text/plain": [
              "array([13,  9])"
            ]
          },
          "metadata": {},
          "execution_count": 11
        }
      ],
      "source": [
        "v = M.dot(u)\n",
        "v"
      ]
    },
    {
      "cell_type": "code",
      "execution_count": 12,
      "metadata": {
        "colab": {
          "base_uri": "https://localhost:8080/"
        },
        "id": "XFN6KpuRv-DM",
        "outputId": "f789204f-7918-4873-e6f0-935743468e27"
      },
      "outputs": [
        {
          "output_type": "execute_result",
          "data": {
            "text/plain": [
              "array([-2.12132034,  4.94974747])"
            ]
          },
          "metadata": {},
          "execution_count": 12
        }
      ],
      "source": [
        "w = R.dot(u)\n",
        "w"
      ]
    },
    {
      "cell_type": "markdown",
      "metadata": {
        "id": "1q4mQ9Z_wNSQ"
      },
      "source": [
        "__Part ii)__\n",
        "\n",
        "* The plot of the three vectors is created using the __plt.quiver()__ function"
      ]
    },
    {
      "cell_type": "code",
      "execution_count": 13,
      "metadata": {
        "colab": {
          "base_uri": "https://localhost:8080/",
          "height": 719
        },
        "id": "ZjRDciL0wDq8",
        "outputId": "5c9c5053-c4a5-45b5-aead-7207ce39a03b"
      },
      "outputs": [
        {
          "output_type": "execute_result",
          "data": {
            "text/plain": [
              "<matplotlib.legend.Legend at 0x7811bbc2e710>"
            ]
          },
          "metadata": {},
          "execution_count": 13
        },
        {
          "output_type": "display_data",
          "data": {
            "text/plain": [
              "<Figure size 1200x800 with 1 Axes>"
            ],
            "image/png": "[encoded data removed]"
          },
          "metadata": {}
        }
      ],
      "source": [
        "plt.figure(figsize=(12 , 8))\n",
        "\n",
        "plt.quiver(0, 0, u[0], u[1], color = 'red' , label='$\\\\vec{u}$',scale_units='xy',scale=1,angles='xy')\n",
        "plt.quiver(0, 0, v[0], v[1], color = 'blue' , label='$\\mathbf{M}.\\\\vec{u}$',scale_units='xy',scale=1,angles='xy')\n",
        "plt.quiver(0, 0, w[0], w[1], color = 'k' , label='$\\mathbf{R}.\\\\vec{u}$',scale_units='xy',scale=1,angles='xy')\n",
        "\n",
        "\n",
        "plt.xlabel('x')\n",
        "plt.ylabel('y')\n",
        "\n",
        "plt.xlim(-5,14)\n",
        "plt.ylim(0,10)\n",
        "\n",
        "plt.legend(loc='upper left')"
      ]
    },
    {
      "cell_type": "code",
      "execution_count": null,
      "metadata": {
        "id": "bn7ioprCyjat"
      },
      "outputs": [],
      "source": []
    },
    {
      "cell_type": "markdown",
      "metadata": {
        "id": "xxGDsxuY9c4F"
      },
      "source": [
        "## _Exercise_ 1\n",
        "\n",
        "Given the matrices\n",
        "$$\n",
        "\\mathbf{A} =\n",
        "\\begin{bmatrix}\n",
        "2 & -4 \\\\ 1 & 3\n",
        "\\end{bmatrix}\n",
        "\\qquad\n",
        "\\mathbf{B}\n",
        "=\n",
        "\\begin{bmatrix}\n",
        "3 & 2 \\\\ -2 & 3\n",
        "\\end{bmatrix}\n",
        "$$\n",
        "and the vector\n",
        "$$\n",
        "\\vec{p} =\n",
        "\\begin{bmatrix}\n",
        "-1 \\\\ 3\n",
        "\\end{bmatrix}\n",
        "$$\n",
        "asnwer the following:\n",
        "\n",
        "\n",
        "\n",
        "__i)__ Find the vectors $\\vec{u}=\\mathbf{A}.\\vec{p}$ and $\\vec{v}=\\mathbf{B}.\\vec{p}$\n",
        "\n",
        "__ii)__ Now find the vectors $\\mathbf{B}.\\vec{u}$ and $\\mathbf{A}.\\vec{v}$\n",
        "\n",
        "__iii)__ Use __==__ to cheeck if $\\mathbf{B}.\\vec{u} = \\mathbf{A}.\\vec{v}$\n",
        "\n",
        "__iv)__ Plot the vectors $\\mathbf{B}.\\vec{u}$ and $\\mathbf{A}.\\vec{v}$.\n",
        "\n",
        "\\\\\n",
        "\n",
        "__NOTE:__ This means you are really plotting $\\mathbf{BA}.\\vec{p}$ and $\\mathbf{AB}.\\vec{p}$, they should not be the same vector. This follows from the fact that the matrix products $\\mathbf{AB}$ and $\\mathbf{BA}$ are not the same matrix\n"
      ]
    },
    {
      "cell_type": "code",
      "execution_count": null,
      "metadata": {
        "id": "llhn4_ZD-35s"
      },
      "outputs": [],
      "source": []
    },
    {
      "cell_type": "code",
      "execution_count": null,
      "metadata": {
        "id": "F2tokhN__3BB"
      },
      "outputs": [],
      "source": []
    },
    {
      "cell_type": "code",
      "execution_count": null,
      "metadata": {
        "id": "2ZZDeQG3_3Dg"
      },
      "outputs": [],
      "source": []
    },
    {
      "cell_type": "code",
      "execution_count": null,
      "metadata": {
        "id": "gojmfdvQ_3GM"
      },
      "outputs": [],
      "source": []
    },
    {
      "cell_type": "code",
      "execution_count": null,
      "metadata": {
        "id": "KwRaWOts_3Ik"
      },
      "outputs": [],
      "source": []
    },
    {
      "cell_type": "code",
      "execution_count": null,
      "metadata": {
        "id": "WLYlG7Dd_3K1"
      },
      "outputs": [],
      "source": []
    }
  ],
  "metadata": {
    "anaconda-cloud": {},
    "colab": {
      "provenance": [],
      "include_colab_link": true
    },
    "kernelspec": {
      "display_name": "Python 3 (ipykernel)",
      "language": "python",
      "name": "python3"
    },
    "language_info": {
      "codemirror_mode": {
        "name": "ipython",
        "version": 3
      },
      "file_extension": ".py",
      "mimetype": "text/x-python",
      "name": "python",
      "nbconvert_exporter": "python",
      "pygments_lexer": "ipython3",
      "version": "3.9.12"
    }
  },
  "nbformat": 4,
  "nbformat_minor": 0
}