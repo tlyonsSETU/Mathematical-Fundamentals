{
  "cells": [
    {
      "cell_type": "markdown",
      "metadata": {
        "id": "view-in-github",
        "colab_type": "text"
      },
      "source": [
        "<a href=\"https://colab.research.google.com/github/tlyonsSETU/Mathematical-Fundamentals/blob/main/Mathematics%20Fundamentals%20-%20Workbook%204.ipynb\" target=\"_parent\"><img src=\"https://colab.research.google.com/assets/colab-badge.svg\" alt=\"Open In Colab\"/></a>"
      ]
    },
    {
      "cell_type": "markdown",
      "metadata": {
        "collapsed": true,
        "id": "c_3_zOKaqFM_"
      },
      "source": [
        "# Mathematics Fundamentals - Python Workbook 4\n",
        "\n",
        "\n",
        "## BSc Computing (ACCS) - Year 1\n",
        "\n",
        "# South East Technological University - Waterford\n",
        "\n",
        "---\n"
      ]
    },
    {
      "cell_type": "markdown",
      "metadata": {
        "id": "01mAAaYV5WAM"
      },
      "source": [
        "# Topics - Logs and Exponentials\n",
        "## Items Covered:\n",
        "\n",
        "1. Logs\n",
        "\n",
        "2. Exponents\n",
        "\n",
        "3. Graphs of Exponents\n",
        "\n"
      ]
    },
    {
      "cell_type": "markdown",
      "metadata": {
        "id": "mmWPdMeCqFNH"
      },
      "source": [
        "## Calling the python libraries and functions\n",
        "\n",
        "\n",
        "* In the cell below the necessary Python libraries and functions are imported, which will be needed for the current work book\n"
      ]
    },
    {
      "cell_type": "code",
      "execution_count": null,
      "metadata": {
        "id": "7Qk8SxWnqFNJ"
      },
      "outputs": [],
      "source": [
        "import matplotlib.pyplot as plt  ## Library of functions for 2D plotting\n",
        "import numpy as np ## Library of function for numerical work\n",
        "\n",
        "from numpy.linalg import det,inv # For calculating determinants and matrix inverses\n",
        "\n",
        "from google.colab import files # For downloading figures"
      ]
    },
    {
      "cell_type": "markdown",
      "metadata": {
        "id": "-AxgXKv9mDvM"
      },
      "source": [
        "## Importing specific functions\n",
        "\n",
        "\n",
        "* Seeing as we will be using them so often, we will import the log and exp functions directly from the numpy library in the cell below:"
      ]
    },
    {
      "cell_type": "code",
      "execution_count": null,
      "metadata": {
        "id": "LizJ0Uv6mRwU"
      },
      "outputs": [],
      "source": [
        "from numpy import log, exp"
      ]
    },
    {
      "cell_type": "markdown",
      "metadata": {
        "id": "BO3oRjC-mYxc"
      },
      "source": [
        "### Notation\n",
        "\n",
        "* In python __exp(x)__ means $e^{x}$\n",
        "\n",
        "\n",
        "* In contast to most calculators, the function __log(x)__ in Python means $\\ln(x)$"
      ]
    },
    {
      "cell_type": "markdown",
      "metadata": {
        "id": "RiZg8t2Spc80"
      },
      "source": [
        "### Example 1\n",
        "\n",
        "Use the log function to solve\n",
        "\n",
        "1. $e^{2x} = 78.5$\n",
        "\n",
        "1. $e^{2-x} = 2.5$\n",
        "\n",
        "---\n",
        "\n",
        "#### __Solution__\n",
        "\n",
        "* For these examples we must first isolate $x$:\n",
        "\n",
        "1. $e^{2x} = 78.5 \\implies \\ln e^{2x} = \\ln78.5 \\implies 2x= \\ln 78.5 \\implies x=0.5\\ln78.5$\n",
        "\n",
        "2. $e^{2-x} = 2.5 \\implies \\ln e^{2-x} = \\ln2.5 \\implies 2-x= \\ln 2.5 \\implies x=2-\\ln2.5$\n",
        "\n",
        "\n",
        "* Now we can use the __log()__ function to solve for $x$ in each case:"
      ]
    },
    {
      "cell_type": "code",
      "execution_count": null,
      "metadata": {
        "id": "9ywhyGEJpp-0",
        "colab": {
          "base_uri": "https://localhost:8080/"
        },
        "outputId": "46324346-d43c-4ec1-9b02-545d10564700"
      },
      "outputs": [
        {
          "output_type": "execute_result",
          "data": {
            "text/plain": [
              "2.1815493123941816"
            ]
          },
          "metadata": {},
          "execution_count": 4
        }
      ],
      "source": [
        "0.5*log(78.5)"
      ]
    },
    {
      "cell_type": "code",
      "source": [
        "2-log(2.5)"
      ],
      "metadata": {
        "colab": {
          "base_uri": "https://localhost:8080/"
        },
        "id": "-j7fb4g30jYc",
        "outputId": "372139f2-c9a1-47c6-ab4a-e17b694efebf"
      },
      "execution_count": null,
      "outputs": [
        {
          "output_type": "execute_result",
          "data": {
            "text/plain": [
              "1.083709268125845"
            ]
          },
          "metadata": {},
          "execution_count": 5
        }
      ]
    },
    {
      "cell_type": "markdown",
      "metadata": {
        "id": "HDD5YydnnHoy"
      },
      "source": [
        "# Plotting exp functions\n",
        "\n",
        "* In this section we will see how to plot the graphs of the population function $P(x) = 3.5e^{0.017x}$\n",
        "we way in Example 3 of Lecture 7.pdf\n",
        "\n",
        "* To make the example clearer, we recall that $x$ is the numer of years since 1969.\n",
        "\n",
        "* In that case, if $yr$ is some year, then its corresponding $x$ value is\n",
        "\\[x=yr-1969\\].\n",
        "\n",
        "* This means we can also write our population function as a function of the year $yr$ directly as\n",
        "$$\n",
        "P(yr) = 3.5e^{0.017(yr-1969)}.\n",
        "$$\n",
        "\n",
        "* In the cell below, we will define this function in code so we can plot it:"
      ]
    },
    {
      "cell_type": "code",
      "source": [
        "def P(yr):\n",
        "  return 3.5*exp(0.017*(yr-1969))"
      ],
      "metadata": {
        "id": "BqVRifFPNDyv"
      },
      "execution_count": null,
      "outputs": []
    },
    {
      "cell_type": "markdown",
      "source": [
        "* In the example we were asked to evaluate the population in 1999, which we can easily do using the function we just defined as follows:"
      ],
      "metadata": {
        "id": "zzQSrt_bNRmu"
      }
    },
    {
      "cell_type": "code",
      "source": [
        "P(1999)"
      ],
      "metadata": {
        "colab": {
          "base_uri": "https://localhost:8080/"
        },
        "id": "zbM1OG4dNjvQ",
        "outputId": "4a5db5a5-fad4-4c24-b5c5-09ce961b42c9"
      },
      "execution_count": null,
      "outputs": [
        {
          "output_type": "execute_result",
          "data": {
            "text/plain": [
              "5.828519182310602"
            ]
          },
          "metadata": {},
          "execution_count": 9
        }
      ]
    },
    {
      "cell_type": "markdown",
      "source": [
        "* As you can see this agrees with our answer in the notes.\n",
        "\n",
        "---"
      ],
      "metadata": {
        "id": "OJ4-306l2LMD"
      }
    },
    {
      "cell_type": "markdown",
      "metadata": {
        "id": "4lubyrogt_cA"
      },
      "source": [
        "### Plotting the function\n",
        "\n",
        "* We will plot this function from the year 1969 to 2069, but to do so we have to set up a set of values of $yr$ that we can input into the fuction.\n",
        "\n",
        "* We do this using the __np.arange()__ function in puython as follows:"
      ]
    },
    {
      "cell_type": "code",
      "source": [
        "yr=np.arange(1969,2070,1)\n",
        "yr"
      ],
      "metadata": {
        "colab": {
          "base_uri": "https://localhost:8080/"
        },
        "id": "K684DchA2ptL",
        "outputId": "c96d67ed-e1b8-46bc-82eb-16f231b40230"
      },
      "execution_count": null,
      "outputs": [
        {
          "output_type": "execute_result",
          "data": {
            "text/plain": [
              "array([1969, 1970, 1971, 1972, 1973, 1974, 1975, 1976, 1977, 1978, 1979,\n",
              "       1980, 1981, 1982, 1983, 1984, 1985, 1986, 1987, 1988, 1989, 1990,\n",
              "       1991, 1992, 1993, 1994, 1995, 1996, 1997, 1998, 1999, 2000, 2001,\n",
              "       2002, 2003, 2004, 2005, 2006, 2007, 2008, 2009, 2010, 2011, 2012,\n",
              "       2013, 2014, 2015, 2016, 2017, 2018, 2019, 2020, 2021, 2022, 2023,\n",
              "       2024, 2025, 2026, 2027, 2028, 2029, 2030, 2031, 2032, 2033, 2034,\n",
              "       2035, 2036, 2037, 2038, 2039, 2040, 2041, 2042, 2043, 2044, 2045,\n",
              "       2046, 2047, 2048, 2049, 2050, 2051, 2052, 2053, 2054, 2055, 2056,\n",
              "       2057, 2058, 2059, 2060, 2061, 2062, 2063, 2064, 2065, 2066, 2067,\n",
              "       2068, 2069])"
            ]
          },
          "metadata": {},
          "execution_count": 11
        }
      ]
    },
    {
      "cell_type": "markdown",
      "source": [
        "* We can now __plot__ and __save__ this figure as follows:"
      ],
      "metadata": {
        "id": "HUOZGsIN25lD"
      }
    },
    {
      "cell_type": "code",
      "source": [
        "plt.plot(yr,P(yr),color='r')\n",
        "\n",
        "plt.xlabel('Year')\n",
        "plt.ylabel('Population (Billions)')\n",
        "\n",
        "plt.savefig('Pop1.pdf')"
      ],
      "metadata": {
        "colab": {
          "base_uri": "https://localhost:8080/",
          "height": 449
        },
        "id": "SYyn92Bs3BGb",
        "outputId": "5094d6f4-a110-46d3-e797-3adb7573679f"
      },
      "execution_count": null,
      "outputs": [
        {
          "output_type": "display_data",
          "data": {
            "text/plain": [
              "<Figure size 640x480 with 1 Axes>"
            ],
            "image/png": "[encoded data removed]"
          },
          "metadata": {}
        }
      ]
    },
    {
      "cell_type": "markdown",
      "metadata": {
        "id": "9f0zVBnivQVE"
      },
      "source": [
        "We can __download__ the pdf file we just creted using the __files.download()__ command:"
      ]
    },
    {
      "cell_type": "code",
      "execution_count": null,
      "metadata": {
        "colab": {
          "base_uri": "https://localhost:8080/",
          "height": 17
        },
        "id": "nRqNNI-juchl",
        "outputId": "5b39943d-1111-4da2-9f2b-3603992ddb35"
      },
      "outputs": [
        {
          "output_type": "display_data",
          "data": {
            "text/plain": [
              "<IPython.core.display.Javascript object>"
            ],
            "application/javascript": [
              "\n",
              "    async function download(id, filename, size) {\n",
              "      if (!google.colab.kernel.accessAllowed) {\n",
              "        return;\n",
              "      }\n",
              "      const div = document.createElement('div');\n",
              "      const label = document.createElement('label');\n",
              "      label.textContent = `Downloading \"${filename}\": `;\n",
              "      div.appendChild(label);\n",
              "      const progress = document.createElement('progress');\n",
              "      progress.max = size;\n",
              "      div.appendChild(progress);\n",
              "      document.body.appendChild(div);\n",
              "\n",
              "      const buffers = [];\n",
              "      let downloaded = 0;\n",
              "\n",
              "      const channel = await google.colab.kernel.comms.open(id);\n",
              "      // Send a message to notify the kernel that we're ready.\n",
              "      channel.send({})\n",
              "\n",
              "      for await (const message of channel.messages) {\n",
              "        // Send a message to notify the kernel that we're ready.\n",
              "        channel.send({})\n",
              "        if (message.buffers) {\n",
              "          for (const buffer of message.buffers) {\n",
              "            buffers.push(buffer);\n",
              "            downloaded += buffer.byteLength;\n",
              "            progress.value = downloaded;\n",
              "          }\n",
              "        }\n",
              "      }\n",
              "      const blob = new Blob(buffers, {type: 'application/binary'});\n",
              "      const a = document.createElement('a');\n",
              "      a.href = window.URL.createObjectURL(blob);\n",
              "      a.download = filename;\n",
              "      div.appendChild(a);\n",
              "      a.click();\n",
              "      div.remove();\n",
              "    }\n",
              "  "
            ]
          },
          "metadata": {}
        },
        {
          "output_type": "display_data",
          "data": {
            "text/plain": [
              "<IPython.core.display.Javascript object>"
            ],
            "application/javascript": [
              "download(\"download_557fb654-bc49-4c54-9154-906d92b08e44\", \"Pop1.pdf\", 11990)"
            ]
          },
          "metadata": {}
        }
      ],
      "source": [
        "files.download('Pop1.pdf')"
      ]
    },
    {
      "cell_type": "markdown",
      "source": [
        "### Plotting Specific Years\n",
        "\n",
        "* We were also aske in the question to calcluate the pupulation in 1999 and to estimate the year when the population will be 10 billion.\n",
        "\n",
        "* We can solve for the year when the population will be 10 billion using the __fsolve()__ command which we import below:"
      ],
      "metadata": {
        "id": "OHZbxsvX4le9"
      }
    },
    {
      "cell_type": "code",
      "execution_count": null,
      "metadata": {
        "id": "ortUPnjHvl70"
      },
      "outputs": [],
      "source": [
        "from scipy.optimize import fsolve"
      ]
    },
    {
      "cell_type": "markdown",
      "source": [
        "* __fsolve(f,x0)__ solves the equation $f(x) = 0$, with the intial guess $x=x0$.\n",
        "\n",
        "* This mmenas we have to create a new cunction __f(yr)__ so that\n",
        "__f(ry)=0__ means the same thing as __P(yr) = 10__\n",
        "\n",
        "* If we bring the 10 to the other side, it is clear then that\n",
        "$$\n",
        "P(yr) - 10 = 0\n",
        "$$\n",
        "so the $f$ we need  is now given below:"
      ],
      "metadata": {
        "id": "160yLJou62Er"
      }
    },
    {
      "cell_type": "code",
      "source": [
        "def f(yr):\n",
        "  return P(yr)-10"
      ],
      "metadata": {
        "id": "1SG92ZdU6Kxj"
      },
      "execution_count": null,
      "outputs": []
    },
    {
      "cell_type": "markdown",
      "source": [
        "* Now we can apply __fsolve()__ to __f(yr)__ and use an initial guess __x0=2000__, i.e. we are guessing the population will be 10 billion in 2000."
      ],
      "metadata": {
        "id": "Fmt3tCa_7lJ1"
      }
    },
    {
      "cell_type": "code",
      "execution_count": null,
      "metadata": {
        "colab": {
          "base_uri": "https://localhost:8080/"
        },
        "id": "Ihuhi_7Zvsm0",
        "outputId": "ae2f6512-67b7-4b22-8a3e-8e63e9ca872a"
      },
      "outputs": [
        {
          "output_type": "execute_result",
          "data": {
            "text/plain": [
              "array([2030.75424262])"
            ]
          },
          "metadata": {},
          "execution_count": 36
        }
      ],
      "source": [
        "yr10=fsolve(f,2000)\n",
        "yr10"
      ]
    },
    {
      "cell_type": "markdown",
      "source": [
        "* __fsolve()__ tells us the population will be 10 billion some time in the year 2030 or by 2031 for sure.\n",
        "\n",
        "* We now plot these years and populations in our original plot:"
      ],
      "metadata": {
        "id": "CYgGc-Il74OJ"
      }
    },
    {
      "cell_type": "code",
      "execution_count": null,
      "metadata": {
        "id": "tpIM9ivuvwks",
        "colab": {
          "base_uri": "https://localhost:8080/",
          "height": 505
        },
        "outputId": "9e2c661a-49c8-429d-f642-e2922444af27"
      },
      "outputs": [
        {
          "output_type": "stream",
          "name": "stderr",
          "text": [
            "/usr/local/lib/python3.10/dist-packages/numpy/core/shape_base.py:65: VisibleDeprecationWarning: Creating an ndarray from ragged nested sequences (which is a list-or-tuple of lists-or-tuples-or ndarrays with different lengths or shapes) is deprecated. If you meant to do this, you must specify 'dtype=object' when creating the ndarray.\n",
            "  ary = asanyarray(ary)\n"
          ]
        },
        {
          "output_type": "display_data",
          "data": {
            "text/plain": [
              "<Figure size 640x480 with 1 Axes>"
            ],
            "image/png": "[encoded data removed]"
          },
          "metadata": {}
        }
      ],
      "source": [
        "plt.plot(yr,P(yr),color='r')\n",
        "\n",
        "plt.plot(1999, P(1999),'or')\n",
        "plt.plot(yr10, P(yr10),'ob')\n",
        "\n",
        "plt.plot([1969,1999],[P(1999),P(1999)],ls=':',color='gray')\n",
        "plt.plot([1999,1999],[P(1969),P(1999)],ls=':',color='gray')\n",
        "\n",
        "plt.plot([1969,yr10],[P(yr10),P(yr10)],ls=':',color='gray')\n",
        "plt.plot([yr10,yr10],[P(1969),P(yr10)],ls=':',color='gray')\n",
        "\n",
        "plt.xlabel('Year')\n",
        "plt.ylabel('Population (Billions)')\n",
        "\n",
        "plt.xlim(1969,2069)\n",
        "plt.ylim(P(1969),P(2069))\n",
        "\n",
        "plt.savefig('Pop1.pdf')"
      ]
    },
    {
      "cell_type": "markdown",
      "metadata": {
        "id": "xxGDsxuY9c4F"
      },
      "source": [
        "## _Exercise_ 1\n",
        "\n",
        "Using the population function from Exercise 3 in Lecture 7.pdf, use python to plot the graph showing the answers to part __(i)__ and __(ii)__\n",
        "\n"
      ]
    },
    {
      "cell_type": "code",
      "execution_count": null,
      "metadata": {
        "id": "F2tokhN__3BB"
      },
      "outputs": [],
      "source": []
    },
    {
      "cell_type": "code",
      "execution_count": null,
      "metadata": {
        "id": "2ZZDeQG3_3Dg"
      },
      "outputs": [],
      "source": []
    },
    {
      "cell_type": "code",
      "execution_count": null,
      "metadata": {
        "id": "gojmfdvQ_3GM"
      },
      "outputs": [],
      "source": []
    },
    {
      "cell_type": "code",
      "source": [],
      "metadata": {
        "id": "h7oTrC_xU5rM"
      },
      "execution_count": null,
      "outputs": []
    },
    {
      "cell_type": "code",
      "source": [],
      "metadata": {
        "id": "PKD9Z24zU5ld"
      },
      "execution_count": null,
      "outputs": []
    },
    {
      "cell_type": "code",
      "source": [],
      "metadata": {
        "id": "l_4kR9DcU5hG"
      },
      "execution_count": null,
      "outputs": []
    },
    {
      "cell_type": "code",
      "source": [],
      "metadata": {
        "id": "gBnF5lRkU5e9"
      },
      "execution_count": null,
      "outputs": []
    },
    {
      "cell_type": "code",
      "source": [],
      "metadata": {
        "id": "07oVS2uBU5ct"
      },
      "execution_count": null,
      "outputs": []
    },
    {
      "cell_type": "code",
      "source": [],
      "metadata": {
        "id": "x941S9hYXJ3_"
      },
      "execution_count": null,
      "outputs": []
    },
    {
      "cell_type": "code",
      "source": [],
      "metadata": {
        "id": "u4LcnPQsXJ1Z"
      },
      "execution_count": null,
      "outputs": []
    }
  ],
  "metadata": {
    "anaconda-cloud": {},
    "colab": {
      "provenance": [],
      "include_colab_link": true
    },
    "kernelspec": {
      "display_name": "Python 3 (ipykernel)",
      "language": "python",
      "name": "python3"
    },
    "language_info": {
      "codemirror_mode": {
        "name": "ipython",
        "version": 3
      },
      "file_extension": ".py",
      "mimetype": "text/x-python",
      "name": "python",
      "nbconvert_exporter": "python",
      "pygments_lexer": "ipython3",
      "version": "3.9.12"
    }
  },
  "nbformat": 4,
  "nbformat_minor": 0
}