{
 "cells": [
  {
   "cell_type": "markdown",
   "metadata": {
    "colab_type": "text",
    "id": "view-in-github"
   },
   "source": [
    "<a href=\"https://colab.research.google.com/github/tlyonsWIT/Mathematical-Methods/blob/main/Mathematical%20Methods%20-%20Workbook%202.ipynb\" target=\"_parent\"><img src=\"https://colab.research.google.com/assets/colab-badge.svg\" alt=\"Open In Colab\"/></a>"
   ]
  },
  {
   "cell_type": "markdown",
   "metadata": {
    "collapsed": true,
    "id": "c_3_zOKaqFM_"
   },
   "source": [
    "# Mathematical Fundamentals - Python Workbook 2\n",
    "\n",
    "## BSc Computing (ACCS) - Year 1\n",
    "\n",
    "# South East Technological University - Waterford\n",
    "\n",
    "---\n",
    " "
   ]
  },
  {
   "cell_type": "markdown",
   "metadata": {
    "id": "01mAAaYV5WAM"
   },
   "source": [
    "# Topic 1 - Vectors in 2-dimensions (2D)\n",
    "\n",
    "## Items Covered:\n",
    "\n",
    "1. Norms & unit vectors\n",
    "\n",
    "2. Dot products & angles\n",
    "\n",
    "3. Perpendicular ($\\perp$) vectors\n",
    "\n",
    "4. Vector projections"
   ]
  },
  {
   "cell_type": "markdown",
   "metadata": {
    "id": "mmWPdMeCqFNH"
   },
   "source": [
    "## Calling the python libraries and functions\n",
    "\n",
    "\n",
    "* In the cell below the necessary Python libraries and functions are imported, which will be needed for the current work book\n"
   ]
  },
  {
   "cell_type": "code",
   "execution_count": 1,
   "metadata": {
    "id": "7Qk8SxWnqFNJ"
   },
   "outputs": [],
   "source": [
    "import matplotlib.pyplot as plt  ## Library of functions for 2D plotting\n",
    "import numpy as np ## Library of function for numerical work"
   ]
  },
  {
   "cell_type": "markdown",
   "metadata": {
    "id": "RlaTV-Wt7UgF"
   },
   "source": [
    "---\n",
    "## Item 1 - Norms & unit vectors\n",
    "\n",
    "### Item 1 (a) - Norms of vectors\n",
    "\n",
    "* Recall from lectures, that the vector \n",
    "$\\vec{u}= u_{1}\\hat{\\imath} + u_{2}\\hat{\\jmath}$\n",
    "has norm (or length or magniture or modulus) given by\n",
    "$$\n",
    "\\Vert \\vec{u}\\Vert = \\sqrt{u_{1}^2 + u_{2}^2}.\n",
    "$$\n",
    "\n",
    "* To begin, we will re-define the function __v2d()__ which was defined last week to create 2D vectors\n",
    "\n",
    "\n",
    "* We are going to modify this definition so that we can set the number of decimal places which appear in our vectors\n",
    "\n",
    "* To do this we use the __np.round()__ function, which can round a to a given number of decimal places (d.p.) \n"
   ]
  },
  {
   "cell_type": "code",
   "execution_count": 2,
   "metadata": {
    "id": "S-efQtKW6nXr"
   },
   "outputs": [],
   "source": [
    "def v2d(a,b,dp):\n",
    "    return np.round(np.array([a,b]),dp)"
   ]
  },
  {
   "cell_type": "markdown",
   "metadata": {
    "id": "B-_qqsAHClUK"
   },
   "source": [
    "* We can now create vectors as we did in Workbook 1, for example, the vector \n",
    "$$\n",
    "\\vec{u} = -4.5\\hat{\\imath} - 1.6\\hat{\\jmath} \n",
    "$$\n",
    "to 3 d.p is given by"
   ]
  },
  {
   "cell_type": "code",
   "execution_count": 3,
   "metadata": {
    "colab": {
     "base_uri": "https://localhost:8080/"
    },
    "id": "4MeCLWTBCqoL",
    "outputId": "4ac04291-788c-422e-f328-d2325cffdbdf"
   },
   "outputs": [
    {
     "data": {
      "text/plain": [
       "array([-4.5, -1.6])"
      ]
     },
     "execution_count": 3,
     "metadata": {},
     "output_type": "execute_result"
    }
   ],
   "source": [
    "u=v2d(-4.5,-1.6,3)\n",
    "u"
   ]
  },
  {
   "cell_type": "code",
   "execution_count": 3,
   "metadata": {
    "id": "k-aaN_Ej7sPp"
   },
   "outputs": [],
   "source": []
  },
  {
   "cell_type": "markdown",
   "metadata": {
    "id": "STgEk95E7anP"
   },
   "source": [
    "* We square this using __u**2__ to give $((-4.5)^2,(-1.6)^2)$, i.e. the indivdual entries are squared (see below):"
   ]
  },
  {
   "cell_type": "code",
   "execution_count": 4,
   "metadata": {
    "colab": {
     "base_uri": "https://localhost:8080/"
    },
    "id": "w-dbopwm8Jzw",
    "outputId": "89c7f8ff-52d7-49a6-d412-7ebcd74dc81a"
   },
   "outputs": [
    {
     "data": {
      "text/plain": [
       "array([20.25,  2.56])"
      ]
     },
     "execution_count": 4,
     "metadata": {},
     "output_type": "execute_result"
    }
   ],
   "source": [
    "u**2"
   ]
  },
  {
   "cell_type": "markdown",
   "metadata": {
    "id": "Q1ub0IQJ8cTO"
   },
   "source": [
    "* Se we can now define our own __norm()__ function by adding the entries of __u**2__ and taking the square root using __np.sqrt()__ and __np.sum()__\n",
    "\n",
    "\n",
    "* To avoid getting answers which are too long, we are also going to round the answers using the __np.round()__ function.\n",
    "\n",
    "* This means our function will need 2 arguments\n",
    "   1. __u__ The vector $\\vec{u}$\n",
    "   2. __dp__ The number of decimal places \n",
    "     "
   ]
  },
  {
   "cell_type": "code",
   "execution_count": 5,
   "metadata": {
    "id": "NBu2ZDtP6w5J"
   },
   "outputs": [],
   "source": [
    "def norm(u,dp): # u is the vector; dp is the number of decimal places\n",
    "    return np.round(np.sqrt(np.sum(u**2)),dp)"
   ]
  },
  {
   "cell_type": "markdown",
   "metadata": {
    "id": "Zd7nS19P8990"
   },
   "source": [
    "## __Example__ 1 (a)\n",
    "\n",
    "Find the norm of each of the following vectors to 5 d.p. (decimal places):\n",
    "\n",
    "* $\\vec{a} = -4.5\\hat{\\imath} + 7.8\\hat{\\jmath}$\n",
    "\n",
    "* $\\vec{b} = 7.3\\hat{\\imath} - 6.2 \\hat{\\jmath}$\n",
    "\n",
    "* $\\vec{c} = 2.5\\hat{\\imath} + 1.4\\hat{\\jmath}$\n",
    "\n",
    "* $\\vec{d} = -4.5\\hat{\\imath} - 11.1\\hat{\\jmath}$\n",
    "\n",
    "\n",
    "### Solution"
   ]
  },
  {
   "cell_type": "code",
   "execution_count": 6,
   "metadata": {
    "colab": {
     "base_uri": "https://localhost:8080/"
    },
    "id": "q46q8wZz9huB",
    "outputId": "15f17be9-17a7-4c3f-bcf7-5b41cf552576"
   },
   "outputs": [
    {
     "data": {
      "text/plain": [
       "(array([-4.5,  7.8]),\n",
       " array([ 7.3, -6.2]),\n",
       " array([2.5, 1.4]),\n",
       " array([ -4.5, -11.1]))"
      ]
     },
     "execution_count": 6,
     "metadata": {},
     "output_type": "execute_result"
    }
   ],
   "source": [
    "a=v2d(-4.5,7.8,5)\n",
    "b=v2d(7.3,-6.2,5)\n",
    "c=v2d(2.5,1.4,5)\n",
    "d=v2d(-4.5,-11.1,5)\n",
    "\n",
    "\n",
    "a , b , c , d"
   ]
  },
  {
   "cell_type": "code",
   "execution_count": 7,
   "metadata": {
    "colab": {
     "base_uri": "https://localhost:8080/"
    },
    "id": "v_Fokf6V9hwn",
    "outputId": "f7580c29-ea27-46bd-fcf7-9193db2585aa"
   },
   "outputs": [
    {
     "data": {
      "text/plain": [
       "(9.005, 9.57758, 2.86531, 11.97748)"
      ]
     },
     "execution_count": 7,
     "metadata": {},
     "output_type": "execute_result"
    }
   ],
   "source": [
    "norm(a,5) , norm(b,5) , norm(c,5) , norm(d,5)"
   ]
  },
  {
   "cell_type": "code",
   "execution_count": 7,
   "metadata": {
    "id": "9Nj1vlGz9hzb"
   },
   "outputs": [],
   "source": []
  },
  {
   "cell_type": "markdown",
   "metadata": {
    "id": "irSNeXrmAMNM"
   },
   "source": [
    "## _Exercise_ 1 (a)\n",
    "\n",
    "Find the norm of each of the following vectors to 3 d.p. (decimal places):\n",
    "\n",
    "* $\\vec{A} = -2.31\\hat{\\imath} - 8.48\\hat{\\jmath}$\n",
    "\n",
    "* $\\vec{B} = 1.63\\hat{\\imath} + 7.44 \\hat{\\jmath}$\n",
    "\n",
    "* $\\vec{C} = -4.61\\hat{\\imath} + 5.67\\hat{\\jmath}$\n",
    "\n",
    "* $\\vec{D} = 8.31\\hat{\\imath} - 7.62\\hat{\\jmath}$\n"
   ]
  },
  {
   "cell_type": "code",
   "execution_count": 7,
   "metadata": {
    "id": "mgSmvkGk9h2n"
   },
   "outputs": [],
   "source": []
  },
  {
   "cell_type": "code",
   "execution_count": 7,
   "metadata": {
    "id": "t4Qw6wqRAimV"
   },
   "outputs": [],
   "source": []
  },
  {
   "cell_type": "code",
   "execution_count": 7,
   "metadata": {
    "id": "JkIPTeSgAisT"
   },
   "outputs": [],
   "source": []
  },
  {
   "cell_type": "code",
   "execution_count": 7,
   "metadata": {
    "id": "v1HtrClKAjGw"
   },
   "outputs": [],
   "source": []
  },
  {
   "cell_type": "markdown",
   "metadata": {
    "id": "_B2KYgECA1ST"
   },
   "source": [
    "### Item 1 (b) - Unit vectors\n",
    "\n",
    "* We saw in lectures that any vector $\\vec{u} = u_{1}\\hat{\\imath} + u_{2}\\hat{\\jmath}$ has an associated _unit vector_ given by\n",
    "$$\n",
    "\\hat{u} = \\frac{\\vec{u}}{\\Vert\\vec{u}\\Vert}\n",
    "$$\n",
    "\n",
    "* We can also define a function to find the unit vector associated with a vector $\\vec{u}$ using the __norm()__ function we defined earlier.\n",
    "\n",
    "\n",
    "* __NOTE__ Since the __norm(u,dp)__ function has arguments __u__ (the vector) and __dp__ the number of decimal places, then any function we define using this function must also have the same arguemnts!!! \n",
    "\n",
    "* We will call our function __unit()__ for __unit__ vector"
   ]
  },
  {
   "cell_type": "code",
   "execution_count": 8,
   "metadata": {
    "id": "F4lZma4jCtKC"
   },
   "outputs": [],
   "source": [
    "def unit(u,dp):\n",
    "    return np.round(u/norm(u,dp),dp)"
   ]
  },
  {
   "cell_type": "markdown",
   "metadata": {
    "id": "UIBWsm4cDpaG"
   },
   "source": [
    "## __Example__ 1 (b)\n",
    "\n",
    "Find the unit vector of each of the following vectors to 3 d.p.:\n",
    "\n",
    "* $\\vec{a} = -4.5\\hat{\\imath} + 7.8\\hat{\\jmath}$\n",
    "\n",
    "* $\\vec{b} = 7.3\\hat{\\imath} - 6.2 \\hat{\\jmath}$\n",
    "\n",
    "* $\\vec{c} = 2.5\\hat{\\imath} + 1.4\\hat{\\jmath}$\n",
    "\n",
    "* $\\vec{d} = -4.5\\hat{\\imath} - 11.1\\hat{\\jmath}$\n",
    "\n",
    "Plot each of the vectors and its unit-vector using the __quiver()__ command."
   ]
  },
  {
   "cell_type": "markdown",
   "metadata": {
    "id": "pfiVpgm3GfnY"
   },
   "source": [
    "### Solution:\n",
    "\n",
    "* The unit vectors are given by"
   ]
  },
  {
   "cell_type": "code",
   "execution_count": 9,
   "metadata": {
    "colab": {
     "base_uri": "https://localhost:8080/"
    },
    "id": "AQ0_-BPjCtNm",
    "outputId": "6a5eb3b2-e716-43f4-9c4b-c22e09d3c1bf"
   },
   "outputs": [
    {
     "data": {
      "text/plain": [
       "(array([-0.5  ,  0.866]),\n",
       " array([ 0.762, -0.647]),\n",
       " array([0.873, 0.489]),\n",
       " array([-0.376, -0.927]))"
      ]
     },
     "execution_count": 9,
     "metadata": {},
     "output_type": "execute_result"
    }
   ],
   "source": [
    "ua = unit(a , 3) \n",
    "ub = unit(b , 3)\n",
    "uc = unit(c , 3) \n",
    "ud = unit(d , 3)\n",
    "ua,ub,uc,ud"
   ]
  },
  {
   "cell_type": "markdown",
   "metadata": {
    "id": "SCA5Qe2TFIC4"
   },
   "source": [
    "* To plot the vectors, we have to extract the components of each vector individually\n",
    "\n",
    "* The components of the vector $\\vec{a}$ can be accessed using the index operator __a[ ]__, for example the first component of $\\vec{a}$ is given by"
   ]
  },
  {
   "cell_type": "code",
   "execution_count": 10,
   "metadata": {
    "colab": {
     "base_uri": "https://localhost:8080/"
    },
    "id": "cWl3VCkBFcQZ",
    "outputId": "7229f86e-aab3-47fe-c1c0-445e90057325"
   },
   "outputs": [
    {
     "data": {
      "text/plain": [
       "-4.5"
      ]
     },
     "execution_count": 10,
     "metadata": {},
     "output_type": "execute_result"
    }
   ],
   "source": [
    "a[0]"
   ]
  },
  {
   "cell_type": "markdown",
   "metadata": {
    "id": "OCn9BInLFh4a"
   },
   "source": [
    "* In this plot we are going to start each vector at the origin (0,0), and color them all grey, whith a opacity __alpha=0.5__\n",
    "\n",
    "* We will plot each unit vector with full opacity __alpha=1__ and give each one its own color.\n",
    "\n",
    "* We will also include a __plt.legend()__ so we know which vector is which."
   ]
  },
  {
   "cell_type": "code",
   "execution_count": 11,
   "metadata": {
    "colab": {
     "base_uri": "https://localhost:8080/",
     "height": 722
    },
    "id": "Hzwhw2CnCtk3",
    "outputId": "32fbdab3-3d08-4ea4-942b-01f82b3d1178"
   },
   "outputs": [
    {
     "data": {
      "text/plain": [
       "<matplotlib.legend.Legend at 0x7f36148c42d0>"
      ]
     },
     "execution_count": 11,
     "metadata": {},
     "output_type": "execute_result"
    },
    {
     "data": {
      "image/png": "[encoded data removed]",
      "text/plain": [
       "<Figure size 864x864 with 1 Axes>"
      ]
     },
     "metadata": {
      "needs_background": "light"
     },
     "output_type": "display_data"
    }
   ],
   "source": [
    "plt.figure(figsize=(12,12))\n",
    "\n",
    "plt.quiver(0,0,a[0],a[1],color='grey',alpha=0.5,scale_units='xy',angles='xy',scale=1)\n",
    "plt.quiver(0,0,b[0],b[1],color='grey',alpha=0.5,scale_units='xy',angles='xy',scale=1)\n",
    "plt.quiver(0,0,c[0],c[1],color='grey',alpha=0.5,scale_units='xy',angles='xy',scale=1)\n",
    "plt.quiver(0,0,d[0],d[1],color='grey',alpha=0.5,scale_units='xy',angles='xy',scale=1)\n",
    "\n",
    "plt.quiver(0,0,ua[0],ua[1],alpha=1,scale_units='xy',angles='xy',scale=1 , label= '$\\hat{a}$' , color = 'blue')\n",
    "plt.quiver(0,0,ub[0],ub[1],alpha=1,scale_units='xy',angles='xy',scale=1 , label= '$\\hat{b}$' , color = 'green')\n",
    "plt.quiver(0,0,uc[0],uc[1],alpha=1,scale_units='xy',angles='xy',scale=1 , label= '$\\hat{c}$' , color = 'red')\n",
    "plt.quiver(0,0,ud[0],ud[1],alpha=1,scale_units='xy',angles='xy',scale=1 , label= '$\\hat{d}$' , color = 'black')\n",
    "\n",
    "\n",
    "plt.xlim(-10,10)\n",
    "plt.ylim(-11,10)\n",
    "plt.legend()\n"
   ]
  },
  {
   "cell_type": "code",
   "execution_count": 11,
   "metadata": {
    "id": "R5EhNNz1CtoQ"
   },
   "outputs": [],
   "source": []
  },
  {
   "cell_type": "markdown",
   "metadata": {
    "id": "8Vj8bvCnKFz8"
   },
   "source": [
    "## _Exercise_ 1 (b)\n",
    "\n",
    "Find the unit vector of each of the following vectors to 5 d.p.:\n",
    "\n",
    "* $\\vec{A} = -2.31\\hat{\\imath} - 8.48\\hat{\\jmath}$\n",
    "\n",
    "* $\\vec{B} = 1.63\\hat{\\imath} + 7.44 \\hat{\\jmath}$\n",
    "\n",
    "* $\\vec{C} = -4.61\\hat{\\imath} + 5.67\\hat{\\jmath}$\n",
    "\n",
    "* $\\vec{D} = 8.31\\hat{\\imath} - 7.62\\hat{\\jmath}$\n",
    "\n",
    "\n",
    "Plot each vector and it unit vector using __plt.quiver()__"
   ]
  },
  {
   "cell_type": "code",
   "execution_count": 11,
   "metadata": {
    "id": "EZwTIk88LV32"
   },
   "outputs": [],
   "source": []
  },
  {
   "cell_type": "code",
   "execution_count": 11,
   "metadata": {
    "id": "6Ys8UsmaLV6X"
   },
   "outputs": [],
   "source": []
  },
  {
   "cell_type": "code",
   "execution_count": 11,
   "metadata": {
    "id": "o8Xrf0iWLV8-"
   },
   "outputs": [],
   "source": []
  },
  {
   "cell_type": "code",
   "execution_count": 11,
   "metadata": {
    "id": "9F_gbXnqLV_W"
   },
   "outputs": [],
   "source": []
  },
  {
   "cell_type": "markdown",
   "metadata": {
    "id": "_kN4y9MPqFNL"
   },
   "source": [
    "---\n",
    "# Item 2 -  Dot-products & angles\n",
    "\n",
    "## Item 2 (a) - The dot product\n",
    "\n",
    "* Given the vectors $\\vec{u} = 1.45\\hat{\\imath} - 4.32\\hat{\\jmath}$ and $\\vec{v} = 3.56\\hat{\\imath} + 1.83\\hat{\\jmath}$, the product __u*v__ just mulitplies the vectors entrywise: "
   ]
  },
  {
   "cell_type": "code",
   "execution_count": 12,
   "metadata": {
    "colab": {
     "base_uri": "https://localhost:8080/"
    },
    "id": "uidaKYvqEqTR",
    "outputId": "2aebaea2-be21-4855-a18f-f0f7bbc86324"
   },
   "outputs": [
    {
     "data": {
      "text/plain": [
       "array([ 5.162 , -7.9056])"
      ]
     },
     "execution_count": 12,
     "metadata": {},
     "output_type": "execute_result"
    }
   ],
   "source": [
    "u=v2d(1.45,-4.32,3)\n",
    "v=v2d(3.56,1.83,3)\n",
    "u*v"
   ]
  },
  {
   "cell_type": "markdown",
   "metadata": {
    "id": "i19SKWhWKdBa"
   },
   "source": [
    "* The dot product is just the __np.sum()__ of these two numbers, and so it is easy to see how we can define a function to calculate the dot-product\n",
    "\n",
    "\n",
    "* However, there is already function in python to calculate the dot product, called __dot__\n",
    "\n",
    "\n",
    "* We calculate the dot product of __u__ and __v__ using __dot__ as follows:"
   ]
  },
  {
   "cell_type": "code",
   "execution_count": 13,
   "metadata": {
    "colab": {
     "base_uri": "https://localhost:8080/"
    },
    "id": "n0eak-Y5LBdA",
    "outputId": "43a937ca-645d-4a66-a3de-fd8e4b78bb2f"
   },
   "outputs": [
    {
     "data": {
      "text/plain": [
       "-2.7436000000000007"
      ]
     },
     "execution_count": 13,
     "metadata": {},
     "output_type": "execute_result"
    }
   ],
   "source": [
    "u.dot(v)"
   ]
  },
  {
   "cell_type": "markdown",
   "metadata": {
    "id": "fiDFytjSMieC"
   },
   "source": [
    "## Item 2 (b) - The angle between vectors\n",
    "\n",
    "* We saw during lectures that the dot-product between $\\vec{u}$ and $\\vec{v}$ is given by\n",
    "\n",
    "$$\n",
    "\\vec{u}\\cdot\\vec{v} = \\Vert\\vec{u}\\Vert \\Vert\\vec{v}\\Vert\\cos\\theta\n",
    "$$\n",
    "\n",
    "\n",
    "* This means the _angle_ between $\\vec{u}$ and $\\vec{v}$ is given by\n",
    "$$\n",
    "\\theta = \\cos^{-1}\\left(\\frac{\\vec{u}\\cdot\\vec{v}}{\\Vert\\vec{u}\\Vert\\Vert\\vec{v}\\Vert}\\right)\n",
    "$$\n",
    "\n",
    "* $\\cos^{-1}()$ is calculated in python using the function __np.arccos().__ The name comes from $\\arccos()$ which is  an older name for $\\cos^{-1}()$ and obviously easier to write as a command line.\n",
    "\n",
    "* We will define our own function __ang(u,v,dp)__ to calculate to angle of opening between two vectors __u__ and __v__ to __dp__ decimal places\n",
    "\n",
    "* When we calculate an angle using __np.arccos()__ it returns the angle in radians, so we need to wrap this in __np.degrees()__ which converts the angle to degrees, and then wrap this answer in __np.round()__ to round off"
   ]
  },
  {
   "cell_type": "code",
   "execution_count": 14,
   "metadata": {
    "id": "IfajgmLZMyff"
   },
   "outputs": [],
   "source": [
    "def ang(u,v,dp):\n",
    "    return np.round(np.degrees(np.arccos(u.dot(v)/norm(u,dp)/norm(v,dp))),dp)"
   ]
  },
  {
   "cell_type": "markdown",
   "metadata": {
    "id": "dsnGsTzFN7gK"
   },
   "source": [
    "## __Example__ 2\n",
    "\n",
    "* Calculate the angle between the vectors $\\vec{u} = 1.45\\hat{\\imath} - 4.32\\hat{\\jmath}$ and $\\vec{v} = 3.56\\hat{\\imath} + 1.83\\hat{\\jmath}$ to 3 d.p.\n",
    "\n",
    "\n",
    "* Plot the vectors. Does the angle appear to match the answer returned by __ang()__?"
   ]
  },
  {
   "cell_type": "code",
   "execution_count": 15,
   "metadata": {
    "colab": {
     "base_uri": "https://localhost:8080/"
    },
    "id": "hiO194SZMyht",
    "outputId": "346abcb9-6743-4901-84ea-6052f1a5052f"
   },
   "outputs": [
    {
     "data": {
      "text/plain": [
       "98.65"
      ]
     },
     "execution_count": 15,
     "metadata": {},
     "output_type": "execute_result"
    }
   ],
   "source": [
    "ang(u,v,3)"
   ]
  },
  {
   "cell_type": "code",
   "execution_count": 16,
   "metadata": {
    "colab": {
     "base_uri": "https://localhost:8080/",
     "height": 559
    },
    "id": "rMebzHsDMykN",
    "outputId": "0887ff70-1474-474f-a212-44c558ff190d"
   },
   "outputs": [
    {
     "data": {
      "text/plain": [
       "<matplotlib.legend.Legend at 0x7f36127b2c90>"
      ]
     },
     "execution_count": 16,
     "metadata": {},
     "output_type": "execute_result"
    },
    {
     "data": {
      "image/png": "[encoded data removed]",
      "text/plain": [
       "<Figure size 648x648 with 1 Axes>"
      ]
     },
     "metadata": {
      "needs_background": "light"
     },
     "output_type": "display_data"
    }
   ],
   "source": [
    "plt.figure(figsize=(9,9))\n",
    "plt.quiver(0,0,u[0],u[1],alpha=1,scale_units='xy',angles='xy',scale=1 , label= '$\\hat{c}$' , color = 'red')\n",
    "plt.quiver(0,0,v[0],v[1],alpha=1,scale_units='xy',angles='xy',scale=1 , label= '$\\hat{d}$' , color = 'black')\n",
    "\n",
    "\n",
    "plt.xlim(-6,6)\n",
    "plt.ylim(-6,6)\n",
    "plt.legend()"
   ]
  },
  {
   "cell_type": "markdown",
   "metadata": {
    "id": "iXCxXSXGOxqQ"
   },
   "source": [
    "* We can see the vectors are almost perpendcular, the angle appears to be slightly bigger than $90^\\circ$, so the picture agrees with the answer given by __ang()__"
   ]
  },
  {
   "cell_type": "code",
   "execution_count": 16,
   "metadata": {
    "id": "GapB7j8eMy5z"
   },
   "outputs": [],
   "source": []
  },
  {
   "cell_type": "markdown",
   "metadata": {
    "id": "GV_2hB2vPSxr"
   },
   "source": [
    "## _Exercise_ 2\n",
    "\n",
    "* Calculate the angle between the vectors $\\vec{a} = 2.33\\hat{\\imath} + 4.56\\hat{\\jmath}$ and $\\vec{b} = -3.56\\hat{\\imath} - 4.83\\hat{\\jmath}$ to 3 d.p.\n",
    "\n",
    "\n",
    "* Plot the vectors. Does the angle appear to match the answer returned by __ang()__?"
   ]
  },
  {
   "cell_type": "code",
   "execution_count": 16,
   "metadata": {
    "id": "i3YHcddNPkA8"
   },
   "outputs": [],
   "source": []
  },
  {
   "cell_type": "code",
   "execution_count": 16,
   "metadata": {
    "id": "pmQ3TtK2PkEk"
   },
   "outputs": [],
   "source": []
  },
  {
   "cell_type": "code",
   "execution_count": 16,
   "metadata": {
    "id": "QVcAfJBuPkIE"
   },
   "outputs": [],
   "source": []
  },
  {
   "cell_type": "code",
   "execution_count": 16,
   "metadata": {
    "id": "Di-K2j8UPknF"
   },
   "outputs": [],
   "source": []
  },
  {
   "cell_type": "code",
   "execution_count": 16,
   "metadata": {
    "id": "9ISRugM6fA8N"
   },
   "outputs": [],
   "source": []
  },
  {
   "cell_type": "code",
   "execution_count": 16,
   "metadata": {
    "id": "Tku0L6VofBDD"
   },
   "outputs": [],
   "source": []
  },
  {
   "cell_type": "markdown",
   "metadata": {
    "id": "u29EQfqKNJbn"
   },
   "source": [
    "---\n",
    "# Item 3 - Perpendicular vectors\n",
    "\n",
    "* It is easy to check that $\\cos^{-1}(0) = 90^{\\circ}$:"
   ]
  },
  {
   "cell_type": "code",
   "execution_count": 17,
   "metadata": {
    "colab": {
     "base_uri": "https://localhost:8080/"
    },
    "id": "2urS2nxWQSt9",
    "outputId": "1fb33b90-c531-4758-cf8e-afee0581a4a1"
   },
   "outputs": [
    {
     "data": {
      "text/plain": [
       "90.0"
      ]
     },
     "execution_count": 17,
     "metadata": {},
     "output_type": "execute_result"
    }
   ],
   "source": [
    "np.degrees(np.arccos(0))"
   ]
  },
  {
   "cell_type": "markdown",
   "metadata": {
    "id": "hFoZnYx4QfZy"
   },
   "source": [
    "* So this means if two vectos $\\vec{u}$ and $\\vec{v}$ have a dot-product of zero, then the angle between them is $90^{\\circ}$ because\n",
    "$$\n",
    "\\theta  = \\cos^{-1}\\left(\\frac{\\vec{u}\\cdot\\vec{v}}{\\Vert\\vec{u}\\Vert \\Vert\\vec{v}\\Vert}\\right) = \\cos^{-1}\\left(\\frac{0}{\\Vert\\vec{u}\\Vert \\Vert\\vec{v}\\Vert}\\right) = \\cos^{-1}\\left(0\\right) = 90^\\circ.\n",
    "$$\n",
    "\n",
    "\n",
    "* This is how we check if vectors are perpendicular. "
   ]
  },
  {
   "cell_type": "markdown",
   "metadata": {
    "id": "oGkRkBI4RoXM"
   },
   "source": [
    "## How to find perpendicular vectors\n",
    "\n",
    "* This also gives us a way to find vectors perpendicular to a given vector $\\vec{u} = u_{1}\\hat{\\imath} + u_{2}\\hat{\\jmath}$\n",
    "\n",
    "\n",
    "* If we swap the components of $\\vec{u}$ and give one of them an extra minus-sign, then we know the dot-product will be automatically zero.\n",
    "\n",
    "* For example, if we let\n",
    "$$\n",
    "\\vec{u}^{\\perp} = -u_{2}\\hat{\\imath} + u_{1}\\hat{\\jmath},\n",
    "$$\n",
    "then taking the dot-product we have \n",
    "$$\n",
    "\\vec{u}\\cdot\\vec{u}^{\\perp} = \\left(u_{1}\\hat{\\imath} + u_{2}\\hat{\\jmath}\\right)\\cdot\\left(-u_{2}\\hat{\\imath} + u_{1}\\hat{\\jmath}\\right) = -u_{1}u_{2}+u_{2}u_{1} = 0.\n",
    "$$\n",
    "\n",
    "* It is easy to check that\n",
    "$$\n",
    "\\vec{u}^{\\perp} = u_{2}\\hat{\\imath} - u_{1}\\hat{\\jmath},\n",
    "$$\n",
    "is also perpendicular to $\\vec{u}$.\n",
    "\n",
    "\n",
    "* We can easily define a function __perp()__ to find a vector perpendicualr to a given vector in 2D."
   ]
  },
  {
   "cell_type": "code",
   "execution_count": 18,
   "metadata": {
    "id": "kgXR8f-UTJHo"
   },
   "outputs": [],
   "source": [
    "def perp(u):\n",
    "    return np.array([u[1],-u[0]])"
   ]
  },
  {
   "cell_type": "markdown",
   "metadata": {
    "id": "mu6rDZKbTTlR"
   },
   "source": [
    "## __Example__ 3\n",
    "\n",
    "* Use __perp()__ to find a vector perpendicular to $\\vec{v} = 4.55\\hat{\\imath} - 7.25\\hat{\\jmath}$\n",
    "\n",
    "\n",
    "* Show that the dot product of the vectors is zero.\n",
    "\n",
    "* Calculate the angle between the vectors\n",
    "\n",
    "\n",
    "* Plot the vectors using __quiver()__\n",
    "\n",
    "\n",
    "### Solution"
   ]
  },
  {
   "cell_type": "markdown",
   "metadata": {
    "id": "yxH5TEPW4_ZI"
   },
   "source": [
    "* The vector is given by"
   ]
  },
  {
   "cell_type": "code",
   "execution_count": 19,
   "metadata": {
    "colab": {
     "base_uri": "https://localhost:8080/"
    },
    "id": "CSCpcAceTuoM",
    "outputId": "b7bfea28-1620-4202-c2da-ef2285f9bbde"
   },
   "outputs": [
    {
     "data": {
      "text/plain": [
       "array([ 4.55, -7.25])"
      ]
     },
     "execution_count": 19,
     "metadata": {},
     "output_type": "execute_result"
    }
   ],
   "source": [
    "v=v2d(4.55,-7.25,2)\n",
    "v"
   ]
  },
  {
   "cell_type": "markdown",
   "metadata": {
    "id": "Rye3nWxI5Cn0"
   },
   "source": [
    "* The perpendicular vector is given by"
   ]
  },
  {
   "cell_type": "code",
   "execution_count": 20,
   "metadata": {
    "colab": {
     "base_uri": "https://localhost:8080/"
    },
    "id": "_e10ognjTy4H",
    "outputId": "8bb3bc4f-0c53-4ab4-bbc4-3db357a607d9"
   },
   "outputs": [
    {
     "data": {
      "text/plain": [
       "array([-7.25, -4.55])"
      ]
     },
     "execution_count": 20,
     "metadata": {},
     "output_type": "execute_result"
    }
   ],
   "source": [
    "vp=perp(v)\n",
    "vp"
   ]
  },
  {
   "cell_type": "markdown",
   "metadata": {
    "id": "ikrHYjts5Gxf"
   },
   "source": [
    "* The dot-product of the vectors is "
   ]
  },
  {
   "cell_type": "code",
   "execution_count": 21,
   "metadata": {
    "colab": {
     "base_uri": "https://localhost:8080/"
    },
    "id": "vy5CHVMrTy7_",
    "outputId": "ca809892-cfbf-4e86-b026-720e3eeb96e1"
   },
   "outputs": [
    {
     "data": {
      "text/plain": [
       "0.0"
      ]
     },
     "execution_count": 21,
     "metadata": {},
     "output_type": "execute_result"
    }
   ],
   "source": [
    "vp.dot(v)"
   ]
  },
  {
   "cell_type": "markdown",
   "metadata": {
    "id": "2-1JtB-95LmE"
   },
   "source": [
    "* The angle between the vectors is "
   ]
  },
  {
   "cell_type": "code",
   "execution_count": 22,
   "metadata": {
    "colab": {
     "base_uri": "https://localhost:8080/"
    },
    "id": "PsSOISzoTy_Q",
    "outputId": "732512c8-016b-42b6-bde5-3b49179e6092"
   },
   "outputs": [
    {
     "data": {
      "text/plain": [
       "90.0"
      ]
     },
     "execution_count": 22,
     "metadata": {},
     "output_type": "execute_result"
    }
   ],
   "source": [
    "ang(v,vp,3)"
   ]
  },
  {
   "cell_type": "markdown",
   "metadata": {
    "id": "IDu2TbAv5Pv3"
   },
   "source": [
    "* The plot of the vectors is shown below. It is clear the vectors are indeed perpendicular"
   ]
  },
  {
   "cell_type": "code",
   "execution_count": 23,
   "metadata": {
    "colab": {
     "base_uri": "https://localhost:8080/",
     "height": 628
    },
    "id": "WBavv9MWGzaQ",
    "outputId": "977dcd31-6e76-4990-8869-8a599f0c93d5"
   },
   "outputs": [
    {
     "data": {
      "text/plain": [
       "<matplotlib.legend.Legend at 0x7f36127ada90>"
      ]
     },
     "execution_count": 23,
     "metadata": {},
     "output_type": "execute_result"
    },
    {
     "data": {
      "image/png": "[encoded data removed]",
      "text/plain": [
       "<Figure size 720x720 with 1 Axes>"
      ]
     },
     "metadata": {
      "needs_background": "light"
     },
     "output_type": "display_data"
    }
   ],
   "source": [
    "plt.figure(figsize=(10,10))\n",
    "\n",
    "plt.quiver(0,0,v[0],v[1],angles='xy',scale_units='xy',scale=1,color='blue',label='$\\\\vec{v}$') \n",
    "plt.quiver(0,0,vp[0],vp[1],angles='xy',scale_units='xy',scale=1,color='green',label='$\\\\vec{v}^{\\\\perp}$') \n",
    "\n",
    "plt.xlabel('x') # Label the x-axis\n",
    "plt.ylabel('y') # Label the y-axis\n",
    "\n",
    "plt.xlim(-8,8)\n",
    "plt.ylim(-8,8)\n",
    "\n",
    "plt.legend()"
   ]
  },
  {
   "cell_type": "markdown",
   "metadata": {
    "id": "bkRmvkflqFNL"
   },
   "source": [
    "## _Exercise_ 3\n",
    "\n",
    "Given the points $P(1.38,5.76)$ and $Q(3.55,-2.34)$ answer the following:\n",
    "\n",
    "* Find the components of the vector $\\vec{PQ}$\n",
    "\n",
    "* Find a vector perpendicular to $\\vec{PQ}$\n",
    "\n",
    "* Plot $\\vec{PQ}$ and its perpendicular using __plt.quiver()__"
   ]
  },
  {
   "cell_type": "code",
   "execution_count": 23,
   "metadata": {
    "id": "smvT7CMcqFNm"
   },
   "outputs": [],
   "source": []
  },
  {
   "cell_type": "code",
   "execution_count": 23,
   "metadata": {
    "id": "RAe8e5pamtNL"
   },
   "outputs": [],
   "source": []
  },
  {
   "cell_type": "code",
   "execution_count": 23,
   "metadata": {
    "id": "XrBsl4hKmtRR"
   },
   "outputs": [],
   "source": []
  },
  {
   "cell_type": "code",
   "execution_count": 23,
   "metadata": {
    "id": "gXSmEmcGfl3O"
   },
   "outputs": [],
   "source": []
  },
  {
   "cell_type": "code",
   "execution_count": 23,
   "metadata": {
    "id": "_PFtOpi1flk3"
   },
   "outputs": [],
   "source": []
  },
  {
   "cell_type": "code",
   "execution_count": 23,
   "metadata": {
    "id": "9ZrvX-73mtWD"
   },
   "outputs": [],
   "source": []
  },
  {
   "cell_type": "markdown",
   "metadata": {
    "id": "WIAQvb13fn-L"
   },
   "source": [
    "# Item 4 - Vector Projections\n",
    "---\n",
    "\n",
    "* Another use of the dot-product is to tell us how much one vector points along another vector.\n",
    "\n",
    "\n",
    "* For example, if we have vectors $\\vec{u}=-1.3\\hat{\\imath}+4.5\\hat{\\jmath}$ and $\\vec{v}=3.4\\hat{\\imath}+1.6\\hat{\\jmath}$, then the __vector projection__ of $\\vec{v}$ along the vector $\\vec{u}$ is given by\n",
    "$$\n",
    "\\mathrm{Proj}_{\\vec{u}}(\\vec{v}) = \\frac{\\vec{u}\\cdot\\vec{v}}{\\Vert\\vec{u}\\Vert^2}\\vec{u} = (\\hat{u}\\cdot\\vec{v})\\hat{u}\n",
    "$$\n",
    "\n",
    "* Again, we can easily define a function to calculate this vector projection:"
   ]
  },
  {
   "cell_type": "code",
   "execution_count": 24,
   "metadata": {
    "id": "hmExk3u4hTk-"
   },
   "outputs": [],
   "source": [
    "def proj(u,v,dp):\n",
    "    return np.round(u.dot(v)/norm(u,dp)**2*u,dp)"
   ]
  },
  {
   "cell_type": "markdown",
   "metadata": {
    "id": "P3E5Ifa4huSF"
   },
   "source": [
    "## __Example__ 4 \n",
    "Given the vectors\n",
    "$$\n",
    "\\vec{u} = 1.33\\hat{\\imath} + 4.21\\hat{\\jmath} \\quad \\vec{v} = 3.21\\hat{\\imath} - 2.14\\hat{\\jmath} \n",
    "$$\n",
    "answer the following:\n",
    "* Find the vector projection $\\mathrm{Proj}_{\\vec{u}}(\\vec{v})$ to 2 d.p.\n",
    "* Plot the vectors $\\vec{u}$, $\\vec{v}$ and $\\mathrm{Proj}_{\\vec{u}}(\\vec{v})$"
   ]
  },
  {
   "cell_type": "code",
   "execution_count": 25,
   "metadata": {
    "colab": {
     "base_uri": "https://localhost:8080/"
    },
    "id": "plibrIFlhsje",
    "outputId": "c8d597c2-0745-4a06-8fdc-2ff7f52b6c62"
   },
   "outputs": [
    {
     "data": {
      "text/plain": [
       "array([ 2.64, -7.88])"
      ]
     },
     "execution_count": 25,
     "metadata": {},
     "output_type": "execute_result"
    }
   ],
   "source": [
    "puv=proj(u,v,2)\n",
    "puv"
   ]
  },
  {
   "cell_type": "code",
   "execution_count": 26,
   "metadata": {
    "colab": {
     "base_uri": "https://localhost:8080/",
     "height": 628
    },
    "id": "AyvoG-BXik9U",
    "outputId": "53ba76f4-1f24-4ddb-84b7-ed0c7049d06a"
   },
   "outputs": [
    {
     "data": {
      "text/plain": [
       "<matplotlib.legend.Legend at 0x7f36127b3250>"
      ]
     },
     "execution_count": 26,
     "metadata": {},
     "output_type": "execute_result"
    },
    {
     "data": {
      "image/png": "[encoded data removed]",
      "text/plain": [
       "<Figure size 720x720 with 1 Axes>"
      ]
     },
     "metadata": {
      "needs_background": "light"
     },
     "output_type": "display_data"
    }
   ],
   "source": [
    "plt.figure(figsize=(10,10))\n",
    "\n",
    "plt.quiver(0,0,u[0],u[1],angles='xy',scale_units='xy',scale=1,color='gray',label='$\\\\vec{u}$',alpha=0.5)\n",
    "plt.quiver(0,0,v[0],v[1],angles='xy',scale_units='xy',scale=1,color='cornflowerblue',label='$\\\\vec{v}$',alpha=0.5) \n",
    "plt.quiver(0,0,puv[0],puv[1],angles='xy',scale_units='xy',scale=1,color='green',label='$\\\\mathrm{Proj}_{\\\\vec{u}}(\\\\vec{v})$') \n",
    "\n",
    "plt.xlabel('x') # Label the x-axis\n",
    "plt.ylabel('y') # Label the y-axis\n",
    "\n",
    "plt.xlim(-8,8)\n",
    "plt.ylim(-8,8)\n",
    "\n",
    "plt.legend()"
   ]
  },
  {
   "cell_type": "markdown",
   "metadata": {
    "id": "-WKfi8NNjLGS"
   },
   "source": [
    "* Now find the vector projection $\\mathrm{Proj}_{\\vec{v}}(\\vec{u})$ to 2 d.p.\n",
    "* Plot the vectors $\\vec{v}$, $\\vec{u}$ and $\\mathrm{Proj}_{\\vec{v}}(\\vec{u})$"
   ]
  },
  {
   "cell_type": "code",
   "execution_count": 27,
   "metadata": {
    "colab": {
     "base_uri": "https://localhost:8080/"
    },
    "id": "AQwedAfDi638",
    "outputId": "a91f3fe5-6d61-4301-b4f5-a270427d7583"
   },
   "outputs": [
    {
     "data": {
      "text/plain": [
       "array([ 2.35, -3.75])"
      ]
     },
     "execution_count": 27,
     "metadata": {},
     "output_type": "execute_result"
    }
   ],
   "source": [
    "pvu=proj(v,u,2)\n",
    "pvu"
   ]
  },
  {
   "cell_type": "code",
   "execution_count": 28,
   "metadata": {
    "colab": {
     "base_uri": "https://localhost:8080/",
     "height": 628
    },
    "id": "QB28yIDNjaHl",
    "outputId": "99c4b4e3-76e8-491a-c9b6-395105e0dec4"
   },
   "outputs": [
    {
     "data": {
      "text/plain": [
       "<matplotlib.legend.Legend at 0x7f361214a990>"
      ]
     },
     "execution_count": 28,
     "metadata": {},
     "output_type": "execute_result"
    },
    {
     "data": {
      "image/png": "[encoded data removed]",
      "text/plain": [
       "<Figure size 720x720 with 1 Axes>"
      ]
     },
     "metadata": {
      "needs_background": "light"
     },
     "output_type": "display_data"
    }
   ],
   "source": [
    "plt.figure(figsize=(10,10))\n",
    "\n",
    "plt.quiver(0,0,u[0],u[1],angles='xy',scale_units='xy',scale=1,color='gray',label='$\\\\vec{u}$',alpha=0.5)\n",
    "plt.quiver(0,0,v[0],v[1],angles='xy',scale_units='xy',scale=1,color='cornflowerblue',label='$\\\\vec{v}$',alpha=0.5) \n",
    "plt.quiver(0,0,pvu[0],pvu[1],angles='xy',scale_units='xy',scale=1,color='green',label='$\\\\mathrm{Proj}_{\\\\vec{u}}(\\\\vec{v})$') \n",
    "\n",
    "plt.xlabel('x') # Label the x-axis\n",
    "plt.ylabel('y') # Label the y-axis\n",
    "\n",
    "plt.xlim(-8,8)\n",
    "plt.ylim(-8,8)\n",
    "\n",
    "plt.legend()"
   ]
  },
  {
   "cell_type": "code",
   "execution_count": 28,
   "metadata": {
    "id": "4_i-M6nKjedE"
   },
   "outputs": [],
   "source": []
  },
  {
   "cell_type": "markdown",
   "metadata": {
    "id": "v0zIkTDFkq1P"
   },
   "source": [
    "## _Exercise_ 4 \n",
    "Given the vectors\n",
    "$$\n",
    "\\vec{p} = -4.56\\hat{\\imath} - 3.88\\hat{\\jmath} \\quad \\vec{q} = -1.83\\hat{\\imath} + 4.32\\hat{\\jmath} \n",
    "$$\n",
    "answer the following:\n",
    "\n",
    "* Find the vector projection $\\mathrm{Proj}_{\\vec{p}}(\\vec{q})$ to 2 d.p.\n",
    "* Plot the vectors $\\vec{p}$, $\\vec{q}$ and $\\mathrm{Proj}_{\\vec{p}}(\\vec{q})$\n",
    "\n",
    "* Find the vector projection $\\mathrm{Proj}_{\\vec{q}}(\\vec{p})$ to 2 d.p.\n",
    "* Plot the vectors $\\vec{p}$, $\\vec{q}$ and $\\mathrm{Proj}_{\\vec{q}}(\\vec{p})$"
   ]
  },
  {
   "cell_type": "code",
   "execution_count": 28,
   "metadata": {
    "id": "vlgnXn6yklmW"
   },
   "outputs": [],
   "source": []
  },
  {
   "cell_type": "code",
   "execution_count": 28,
   "metadata": {
    "id": "VzYJHxVwklow"
   },
   "outputs": [],
   "source": []
  },
  {
   "cell_type": "code",
   "execution_count": 28,
   "metadata": {
    "id": "tpspVXL3klrV"
   },
   "outputs": [],
   "source": []
  },
  {
   "cell_type": "code",
   "execution_count": 28,
   "metadata": {
    "id": "Hau5VDl6klt5"
   },
   "outputs": [],
   "source": []
  },
  {
   "cell_type": "code",
   "execution_count": 28,
   "metadata": {
    "id": "sG-XrLSGklwJ"
   },
   "outputs": [],
   "source": []
  }
 ],
 "metadata": {
  "anaconda-cloud": {},
  "colab": {
   "collapsed_sections": [],
   "include_colab_link": true,
   "provenance": []
  },
  "kernelspec": {
   "display_name": "Python 3 (ipykernel)",
   "language": "python",
   "name": "python3"
  },
  "language_info": {
   "codemirror_mode": {
    "name": "ipython",
    "version": 3
   },
   "file_extension": ".py",
   "mimetype": "text/x-python",
   "name": "python",
   "nbconvert_exporter": "python",
   "pygments_lexer": "ipython3",
   "version": "3.9.12"
  }
 },
 "nbformat": 4,
 "nbformat_minor": 1
}
