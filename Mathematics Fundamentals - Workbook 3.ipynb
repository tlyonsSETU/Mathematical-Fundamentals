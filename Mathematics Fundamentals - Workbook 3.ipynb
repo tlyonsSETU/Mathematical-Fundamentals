{
  "cells": [
    {
      "cell_type": "markdown",
      "metadata": {
        "id": "view-in-github",
        "colab_type": "text"
      },
      "source": [
        "<a href=\"https://colab.research.google.com/github/tlyonsSETU/Mathematical-Fundamentals/blob/main/Mathematics%20Fundamentals%20-%20Workbook%203.ipynb\" target=\"_parent\"><img src=\"https://colab.research.google.com/assets/colab-badge.svg\" alt=\"Open In Colab\"/></a>"
      ]
    },
    {
      "cell_type": "markdown",
      "metadata": {
        "collapsed": true,
        "id": "c_3_zOKaqFM_"
      },
      "source": [
        "# Mathematics Fundamentals - Python Workbook 3\n",
        "\n",
        "## BSc Computing (ACCS) - Year 1\n",
        "\n",
        "# South East Technological University - Waterford\n",
        "\n",
        "---\n"
      ]
    },
    {
      "cell_type": "markdown",
      "metadata": {
        "id": "01mAAaYV5WAM"
      },
      "source": [
        "# Topics - Matrices and Vectors\n",
        "## Items Covered:\n",
        "\n",
        "1. Identity Matrix\n",
        "\n",
        "2. Matrix Determinants\n",
        "\n",
        "3. Inverse Matrices\n",
        "\n",
        "4. Matrix Multiplication\n",
        "\n",
        "\n"
      ]
    },
    {
      "cell_type": "markdown",
      "metadata": {
        "id": "mmWPdMeCqFNH"
      },
      "source": [
        "## Calling the python libraries and functions\n",
        "\n",
        "\n",
        "* In the cell below the necessary Python libraries and functions are imported, which will be needed for the current work book\n"
      ]
    },
    {
      "cell_type": "code",
      "execution_count": 40,
      "metadata": {
        "id": "7Qk8SxWnqFNJ"
      },
      "outputs": [],
      "source": [
        "import matplotlib.pyplot as plt  ## Library of functions for 2D plotting\n",
        "import numpy as np ## Library of function for numerical work\n",
        "\n",
        "from numpy.linalg import det,inv # For calculating determinants and matrix inverses\n",
        "\n",
        "from google.colab import files # For downloading figures"
      ]
    },
    {
      "cell_type": "markdown",
      "metadata": {
        "id": "-AxgXKv9mDvM"
      },
      "source": [
        "## Some useful function definitions\n",
        "\n",
        "### __v2d(a,b)__\n",
        "\n",
        "* A function for creating 2D-vectors"
      ]
    },
    {
      "cell_type": "code",
      "execution_count": 3,
      "metadata": {
        "id": "LizJ0Uv6mRwU"
      },
      "outputs": [],
      "source": [
        "def v2d(a,b):\n",
        "    return np.array([a,b])"
      ]
    },
    {
      "cell_type": "markdown",
      "metadata": {
        "id": "BO3oRjC-mYxc"
      },
      "source": [
        "### __M2(a,b,c,d)__\n",
        "A function to create a __2x2 matrix__ of the form\n",
        "$$\n",
        "\\begin{bmatrix}\n",
        "a & b \\\\ c & d\n",
        "\\end{bmatrix}\n",
        "$$"
      ]
    },
    {
      "cell_type": "code",
      "execution_count": 4,
      "metadata": {
        "id": "d07pGZucmuPw"
      },
      "outputs": [],
      "source": [
        "def M2(a,b,c,d):\n",
        "    return np.array([[a , b] , [c , d]])"
      ]
    },
    {
      "cell_type": "markdown",
      "metadata": {
        "id": "RiZg8t2Spc80"
      },
      "source": [
        "### __R2(t)__\n",
        "A function the create a rotation vector with __t__ a rotation angle in __degrees__"
      ]
    },
    {
      "cell_type": "code",
      "execution_count": 5,
      "metadata": {
        "id": "9ywhyGEJpp-0"
      },
      "outputs": [],
      "source": [
        "def R2(t):\n",
        "    r=np.radians(t)\n",
        "    c=np.cos(r)\n",
        "    s=np.sin(r)\n",
        "    return np.array([[c , -s] , [s , c]])"
      ]
    },
    {
      "cell_type": "markdown",
      "metadata": {
        "id": "og4C62HQ560Q"
      },
      "source": [
        "---"
      ]
    },
    {
      "cell_type": "markdown",
      "metadata": {
        "id": "HDD5YydnnHoy"
      },
      "source": [
        "# Item 1 - Identity Matrices in Python\n",
        "\n",
        "* In python there is a very quick way to set up the 2x2 identity matrix using the __np.eye()__ function.\n",
        "\n",
        "* To create the 2x2 identity matrix we use __np.eye(2)__ as shown below:"
      ]
    },
    {
      "cell_type": "code",
      "source": [
        "I=np.eye(2)\n",
        "I"
      ],
      "metadata": {
        "colab": {
          "base_uri": "https://localhost:8080/"
        },
        "id": "BqVRifFPNDyv",
        "outputId": "eafcf214-4f4f-4676-9300-1dad1324a998"
      },
      "execution_count": 7,
      "outputs": [
        {
          "output_type": "execute_result",
          "data": {
            "text/plain": [
              "array([[1., 0.],\n",
              "       [0., 1.]])"
            ]
          },
          "metadata": {},
          "execution_count": 7
        }
      ]
    },
    {
      "cell_type": "markdown",
      "source": [
        "* We can extend this to any number of dimensions by changing the argument of __np.eye()__.\n",
        "\n",
        "* For example, the 3x3  and 11x11 identiity matrices are:"
      ],
      "metadata": {
        "id": "zzQSrt_bNRmu"
      }
    },
    {
      "cell_type": "code",
      "source": [
        "np.eye(3)"
      ],
      "metadata": {
        "colab": {
          "base_uri": "https://localhost:8080/"
        },
        "id": "zbM1OG4dNjvQ",
        "outputId": "eb9268b9-e18e-454b-8451-e23ba6db837d"
      },
      "execution_count": 8,
      "outputs": [
        {
          "output_type": "execute_result",
          "data": {
            "text/plain": [
              "array([[1., 0., 0.],\n",
              "       [0., 1., 0.],\n",
              "       [0., 0., 1.]])"
            ]
          },
          "metadata": {},
          "execution_count": 8
        }
      ]
    },
    {
      "cell_type": "code",
      "source": [
        "np.eye(11)"
      ],
      "metadata": {
        "colab": {
          "base_uri": "https://localhost:8080/"
        },
        "id": "pX_PwDz-Nj0I",
        "outputId": "fec3dc57-1cb4-4835-887d-2ffb7895cf24"
      },
      "execution_count": 9,
      "outputs": [
        {
          "output_type": "execute_result",
          "data": {
            "text/plain": [
              "array([[1., 0., 0., 0., 0., 0., 0., 0., 0., 0., 0.],\n",
              "       [0., 1., 0., 0., 0., 0., 0., 0., 0., 0., 0.],\n",
              "       [0., 0., 1., 0., 0., 0., 0., 0., 0., 0., 0.],\n",
              "       [0., 0., 0., 1., 0., 0., 0., 0., 0., 0., 0.],\n",
              "       [0., 0., 0., 0., 1., 0., 0., 0., 0., 0., 0.],\n",
              "       [0., 0., 0., 0., 0., 1., 0., 0., 0., 0., 0.],\n",
              "       [0., 0., 0., 0., 0., 0., 1., 0., 0., 0., 0.],\n",
              "       [0., 0., 0., 0., 0., 0., 0., 1., 0., 0., 0.],\n",
              "       [0., 0., 0., 0., 0., 0., 0., 0., 1., 0., 0.],\n",
              "       [0., 0., 0., 0., 0., 0., 0., 0., 0., 1., 0.],\n",
              "       [0., 0., 0., 0., 0., 0., 0., 0., 0., 0., 1.]])"
            ]
          },
          "metadata": {},
          "execution_count": 9
        }
      ]
    },
    {
      "cell_type": "markdown",
      "metadata": {
        "id": "4lubyrogt_cA"
      },
      "source": [
        "## __Example__ 1\n",
        "\n",
        "Given the matrices\n",
        "$$\n",
        "\\mathbf{M} =\n",
        "\\begin{bmatrix}\n",
        "-1 & 3 \\\\ 2 & 1\n",
        "\\end{bmatrix}\n",
        "\\qquad\n",
        "\\mathbf{R} =\n",
        "\\begin{bmatrix}\n",
        "\\cos(45) & -\\sin(45) \\\\ \\sin(45) & \\cos(45)\n",
        "\\end{bmatrix}\n",
        "$$\n",
        "and the vector $\\vec{u} = \\begin{bmatrix} 2 \\\\ 5\\end{bmatrix}$\n",
        "show that $I.M=M$, $I.R=R$ and $I.\\vec{u}=\\vec{u}$"
      ]
    },
    {
      "cell_type": "markdown",
      "metadata": {
        "id": "9f0zVBnivQVE"
      },
      "source": [
        "### __Solution__\n",
        "\n",
        "* To indicate matrix multiplication we must use the __.dot()__ command.\n",
        "\n",
        "* But first we must set up the matrices $M$ and $R$ and the vector $\\vec{u}$ using the functions __M2()__, __R()__ and __v2d()__"
      ]
    },
    {
      "cell_type": "code",
      "execution_count": 10,
      "metadata": {
        "colab": {
          "base_uri": "https://localhost:8080/"
        },
        "id": "nRqNNI-juchl",
        "outputId": "236878ad-fb24-43f0-96ee-a87354bc8fb2"
      },
      "outputs": [
        {
          "output_type": "execute_result",
          "data": {
            "text/plain": [
              "array([[-1,  3],\n",
              "       [ 2,  1]])"
            ]
          },
          "metadata": {},
          "execution_count": 10
        }
      ],
      "source": [
        "M=M2(-1,3,2,1)\n",
        "M"
      ]
    },
    {
      "cell_type": "code",
      "execution_count": 12,
      "metadata": {
        "colab": {
          "base_uri": "https://localhost:8080/"
        },
        "id": "ortUPnjHvl70",
        "outputId": "e96c6178-8de7-4cee-d5c8-2d8fcc7e9bba"
      },
      "outputs": [
        {
          "output_type": "execute_result",
          "data": {
            "text/plain": [
              "array([[ 0.70710678, -0.70710678],\n",
              "       [ 0.70710678,  0.70710678]])"
            ]
          },
          "metadata": {},
          "execution_count": 12
        }
      ],
      "source": [
        "R=R2(45)\n",
        "R"
      ]
    },
    {
      "cell_type": "code",
      "execution_count": 14,
      "metadata": {
        "colab": {
          "base_uri": "https://localhost:8080/"
        },
        "id": "Ihuhi_7Zvsm0",
        "outputId": "f75b707f-4150-47ac-bd89-45ad31ac38f6"
      },
      "outputs": [
        {
          "output_type": "execute_result",
          "data": {
            "text/plain": [
              "array([2, 5])"
            ]
          },
          "metadata": {},
          "execution_count": 14
        }
      ],
      "source": [
        "u=v2d(2,5)\n",
        "u"
      ]
    },
    {
      "cell_type": "code",
      "execution_count": null,
      "metadata": {
        "id": "tpIM9ivuvwks"
      },
      "outputs": [],
      "source": []
    },
    {
      "cell_type": "markdown",
      "metadata": {
        "id": "TBWG7KV8v1BF"
      },
      "source": [
        "* We have already defined __I=np.eye(2)__, so we can use __I__ for short, and so the matrix multiplication is now"
      ]
    },
    {
      "cell_type": "code",
      "execution_count": 17,
      "metadata": {
        "colab": {
          "base_uri": "https://localhost:8080/"
        },
        "id": "51F4jMyov7Hs",
        "outputId": "4fa1a33c-2e44-4761-b614-ba073742203a"
      },
      "outputs": [
        {
          "output_type": "execute_result",
          "data": {
            "text/plain": [
              "array([[-1.,  3.],\n",
              "       [ 2.,  1.]])"
            ]
          },
          "metadata": {},
          "execution_count": 17
        }
      ],
      "source": [
        "I.dot(M)"
      ]
    },
    {
      "cell_type": "code",
      "execution_count": 18,
      "metadata": {
        "colab": {
          "base_uri": "https://localhost:8080/"
        },
        "id": "XFN6KpuRv-DM",
        "outputId": "1d3746df-4b15-48c5-f37b-52023a74438d"
      },
      "outputs": [
        {
          "output_type": "execute_result",
          "data": {
            "text/plain": [
              "array([[ 0.70710678, -0.70710678],\n",
              "       [ 0.70710678,  0.70710678]])"
            ]
          },
          "metadata": {},
          "execution_count": 18
        }
      ],
      "source": [
        "I.dot(R)"
      ]
    },
    {
      "cell_type": "code",
      "source": [
        "I.dot(u)"
      ],
      "metadata": {
        "colab": {
          "base_uri": "https://localhost:8080/"
        },
        "id": "NmrS4HnnOvQv",
        "outputId": "bb5513ab-ef2d-458c-e1f2-f04e51fba1ca"
      },
      "execution_count": 19,
      "outputs": [
        {
          "output_type": "execute_result",
          "data": {
            "text/plain": [
              "array([2., 5.])"
            ]
          },
          "metadata": {},
          "execution_count": 19
        }
      ]
    },
    {
      "cell_type": "markdown",
      "metadata": {
        "id": "xxGDsxuY9c4F"
      },
      "source": [
        "## _Exercise_ 1\n",
        "\n",
        "Given the matrices\n",
        "$$\n",
        "\\mathbf{A} =\n",
        "\\begin{bmatrix}\n",
        "2 & -4 \\\\ 1 & 3\n",
        "\\end{bmatrix}\n",
        "\\qquad\n",
        "\\mathbf{B}\n",
        "=\n",
        "\\begin{bmatrix}\n",
        "3 & 2 \\\\ -2 & 3\n",
        "\\end{bmatrix}\n",
        "$$\n",
        "and the vector\n",
        "$$\n",
        "\\vec{p} =\n",
        "\\begin{bmatrix}\n",
        "-1 \\\\ 3\n",
        "\\end{bmatrix}\n",
        "$$\n",
        "show the $I.A=A$, $I.B=B$ and $I.\\vec{p}=\\vec{p}$\n",
        "\n"
      ]
    },
    {
      "cell_type": "code",
      "execution_count": null,
      "metadata": {
        "id": "F2tokhN__3BB"
      },
      "outputs": [],
      "source": []
    },
    {
      "cell_type": "code",
      "execution_count": null,
      "metadata": {
        "id": "2ZZDeQG3_3Dg"
      },
      "outputs": [],
      "source": []
    },
    {
      "cell_type": "code",
      "execution_count": null,
      "metadata": {
        "id": "gojmfdvQ_3GM"
      },
      "outputs": [],
      "source": []
    },
    {
      "cell_type": "markdown",
      "source": [
        "# Determinants of Matrices\n",
        "\n",
        "* In this section we are going to calcualte the determinants of the matrices\n",
        "\\\\[A=\\begin{bmatrix} -1 & 4 \\\\ -3 & 2\\end{bmatrix} \\qquad B= \\begin{bmatrix} 2 & -1 \\\\ -6 & 3\\end{bmatrix}\\\\]\n",
        "from Example 3 of Lecture 3.pdf\n",
        "\n",
        "* We will aslo plat the parallelograms formed by the 2D-vectors making up these matrices\n",
        "\n",
        "### Solution\n",
        "\n",
        "* To begin we define the matrices and vectors"
      ],
      "metadata": {
        "id": "qfyjr4NTPlUO"
      }
    },
    {
      "cell_type": "code",
      "source": [
        "A=M2(-1,4,-3,2)\n",
        "A"
      ],
      "metadata": {
        "colab": {
          "base_uri": "https://localhost:8080/"
        },
        "id": "qQjVz7qYQgVW",
        "outputId": "2292e83a-2417-4aa8-d5f0-d2ba502f3188"
      },
      "execution_count": 20,
      "outputs": [
        {
          "output_type": "execute_result",
          "data": {
            "text/plain": [
              "array([[-1,  4],\n",
              "       [-3,  2]])"
            ]
          },
          "metadata": {},
          "execution_count": 20
        }
      ]
    },
    {
      "cell_type": "code",
      "source": [
        "B=M2(2,-1,-6,3)\n",
        "B"
      ],
      "metadata": {
        "colab": {
          "base_uri": "https://localhost:8080/"
        },
        "id": "W3RJyx78Qokp",
        "outputId": "ff010541-607b-4e47-a0af-d61637a5e8a2"
      },
      "execution_count": 21,
      "outputs": [
        {
          "output_type": "execute_result",
          "data": {
            "text/plain": [
              "array([[ 2, -1],\n",
              "       [-6,  3]])"
            ]
          },
          "metadata": {},
          "execution_count": 21
        }
      ]
    },
    {
      "cell_type": "code",
      "source": [
        "p=v2d(-1,-3)\n",
        "p"
      ],
      "metadata": {
        "colab": {
          "base_uri": "https://localhost:8080/"
        },
        "id": "bHJIBzQ4QrYm",
        "outputId": "292869db-4167-496a-e5ce-f779b772fcd1"
      },
      "execution_count": 22,
      "outputs": [
        {
          "output_type": "execute_result",
          "data": {
            "text/plain": [
              "array([-1, -3])"
            ]
          },
          "metadata": {},
          "execution_count": 22
        }
      ]
    },
    {
      "cell_type": "code",
      "source": [
        "q=v2d(4,2)\n",
        "q"
      ],
      "metadata": {
        "colab": {
          "base_uri": "https://localhost:8080/"
        },
        "id": "1gemKUI0QvSo",
        "outputId": "08b08377-37ae-4044-8214-1f90b3b46850"
      },
      "execution_count": 23,
      "outputs": [
        {
          "output_type": "execute_result",
          "data": {
            "text/plain": [
              "array([4, 2])"
            ]
          },
          "metadata": {},
          "execution_count": 23
        }
      ]
    },
    {
      "cell_type": "code",
      "source": [
        "r=v2d(2,-6)\n",
        "r"
      ],
      "metadata": {
        "colab": {
          "base_uri": "https://localhost:8080/"
        },
        "id": "CyrJhJm8QyfW",
        "outputId": "abf38d64-6426-46e5-d158-28e9fb9535be"
      },
      "execution_count": 24,
      "outputs": [
        {
          "output_type": "execute_result",
          "data": {
            "text/plain": [
              "array([ 2, -6])"
            ]
          },
          "metadata": {},
          "execution_count": 24
        }
      ]
    },
    {
      "cell_type": "code",
      "source": [
        "s=v2d(-1,3)\n",
        "s"
      ],
      "metadata": {
        "colab": {
          "base_uri": "https://localhost:8080/"
        },
        "id": "L4kk6jKaQ1cn",
        "outputId": "824312d8-23fe-42eb-9651-20ae66a0344a"
      },
      "execution_count": 25,
      "outputs": [
        {
          "output_type": "execute_result",
          "data": {
            "text/plain": [
              "array([-1,  3])"
            ]
          },
          "metadata": {},
          "execution_count": 25
        }
      ]
    },
    {
      "cell_type": "code",
      "source": [],
      "metadata": {
        "id": "UOc_TCUTQ381"
      },
      "execution_count": null,
      "outputs": []
    },
    {
      "cell_type": "markdown",
      "source": [
        "* Now we use the __det()__ command to find the determinants of the matrices:"
      ],
      "metadata": {
        "id": "8yaVMHn1Q52p"
      }
    },
    {
      "cell_type": "code",
      "source": [
        "detA=det(A)\n",
        "detA"
      ],
      "metadata": {
        "colab": {
          "base_uri": "https://localhost:8080/"
        },
        "id": "KlL1Lf4sROwG",
        "outputId": "7271a7b6-74f0-4020-c01f-d89a9956f5fd"
      },
      "execution_count": 28,
      "outputs": [
        {
          "output_type": "execute_result",
          "data": {
            "text/plain": [
              "10.000000000000002"
            ]
          },
          "metadata": {},
          "execution_count": 28
        }
      ]
    },
    {
      "cell_type": "code",
      "source": [
        "detB=det(B)\n",
        "detB"
      ],
      "metadata": {
        "colab": {
          "base_uri": "https://localhost:8080/"
        },
        "id": "Dm1MVDRVRRKm",
        "outputId": "2f58f454-f6ad-42b9-f3c6-355f255f4ad3"
      },
      "execution_count": 29,
      "outputs": [
        {
          "output_type": "execute_result",
          "data": {
            "text/plain": [
              "0.0"
            ]
          },
          "metadata": {},
          "execution_count": 29
        }
      ]
    },
    {
      "cell_type": "code",
      "source": [],
      "metadata": {
        "id": "Q8kjrzpFRTdG"
      },
      "execution_count": null,
      "outputs": []
    },
    {
      "cell_type": "markdown",
      "source": [
        "* Next we use __plt.quiver()__ to plot the parallelogram formed by each matrix:"
      ],
      "metadata": {
        "id": "jWQETasIRU-o"
      }
    },
    {
      "cell_type": "code",
      "source": [
        "## Plot for Matrix A\n",
        "\n",
        "plt.quiver(0,0,p[0],p[1],color='k',scale=1,scale_units='xy',angles='xy')\n",
        "plt.quiver(0,0,q[0],q[1],color='r',scale=1,scale_units='xy',angles='xy')\n",
        "plt.quiver(q[0],q[1],p[0],p[1],color='k',scale=1,scale_units='xy',angles='xy')\n",
        "plt.quiver(p[0],p[1],q[0],q[1],color='r',scale=1,scale_units='xy',angles='xy')\n",
        "\n",
        "\n",
        "plt.xlabel('x')\n",
        "plt.ylabel('y')\n",
        "\n",
        "plt.savefig('Parallel1.pdf') # Save the fig as a pdf file called Parallel1.pdf\n",
        "files.download('Parallel1.pdf') # Download this pdf to your computer"
      ],
      "metadata": {
        "colab": {
          "base_uri": "https://localhost:8080/",
          "height": 449
        },
        "id": "4pNYIRQlRb93",
        "outputId": "9f926ce4-095c-413c-90d7-321583c94111"
      },
      "execution_count": 41,
      "outputs": [
        {
          "output_type": "display_data",
          "data": {
            "text/plain": [
              "<IPython.core.display.Javascript object>"
            ],
            "application/javascript": [
              "\n",
              "    async function download(id, filename, size) {\n",
              "      if (!google.colab.kernel.accessAllowed) {\n",
              "        return;\n",
              "      }\n",
              "      const div = document.createElement('div');\n",
              "      const label = document.createElement('label');\n",
              "      label.textContent = `Downloading \"${filename}\": `;\n",
              "      div.appendChild(label);\n",
              "      const progress = document.createElement('progress');\n",
              "      progress.max = size;\n",
              "      div.appendChild(progress);\n",
              "      document.body.appendChild(div);\n",
              "\n",
              "      const buffers = [];\n",
              "      let downloaded = 0;\n",
              "\n",
              "      const channel = await google.colab.kernel.comms.open(id);\n",
              "      // Send a message to notify the kernel that we're ready.\n",
              "      channel.send({})\n",
              "\n",
              "      for await (const message of channel.messages) {\n",
              "        // Send a message to notify the kernel that we're ready.\n",
              "        channel.send({})\n",
              "        if (message.buffers) {\n",
              "          for (const buffer of message.buffers) {\n",
              "            buffers.push(buffer);\n",
              "            downloaded += buffer.byteLength;\n",
              "            progress.value = downloaded;\n",
              "          }\n",
              "        }\n",
              "      }\n",
              "      const blob = new Blob(buffers, {type: 'application/binary'});\n",
              "      const a = document.createElement('a');\n",
              "      a.href = window.URL.createObjectURL(blob);\n",
              "      a.download = filename;\n",
              "      div.appendChild(a);\n",
              "      a.click();\n",
              "      div.remove();\n",
              "    }\n",
              "  "
            ]
          },
          "metadata": {}
        },
        {
          "output_type": "display_data",
          "data": {
            "text/plain": [
              "<IPython.core.display.Javascript object>"
            ],
            "application/javascript": [
              "download(\"download_dd057487-7b9a-465d-9f81-5464240c4073\", \"Parallel1.pdf\", 6061)"
            ]
          },
          "metadata": {}
        },
        {
          "output_type": "display_data",
          "data": {
            "text/plain": [
              "<Figure size 640x480 with 1 Axes>"
            ],
            "image/png": "[encoded data removed]"
          },
          "metadata": {}
        }
      ]
    },
    {
      "cell_type": "markdown",
      "source": [
        "* The area of this parallelogram is 10 sq. units"
      ],
      "metadata": {
        "id": "ntY3C8oJSE83"
      }
    },
    {
      "cell_type": "code",
      "source": [
        "## Plot for Matrix A\n",
        "\n",
        "plt.quiver(0,0,r[0],r[1],color='k',scale=1,scale_units='xy',angles='xy')\n",
        "plt.quiver(0,0,s[0],s[1],color='r',scale=1,scale_units='xy',angles='xy')\n",
        "plt.quiver(s[0],s[1],r[0],r[1],color='k',scale=1,scale_units='xy',angles='xy')\n",
        "plt.quiver(r[0],r[1],s[0],s[1],color='r',scale=1,scale_units='xy',angles='xy')\n",
        "\n",
        "\n",
        "plt.xlabel('x')\n",
        "plt.ylabel('y')"
      ],
      "metadata": {
        "colab": {
          "base_uri": "https://localhost:8080/",
          "height": 467
        },
        "id": "hfMlXgFpRlgG",
        "outputId": "026cf400-1115-4437-d119-9ecab470b719"
      },
      "execution_count": 37,
      "outputs": [
        {
          "output_type": "execute_result",
          "data": {
            "text/plain": [
              "Text(0, 0.5, 'y')"
            ]
          },
          "metadata": {},
          "execution_count": 37
        },
        {
          "output_type": "display_data",
          "data": {
            "text/plain": [
              "<Figure size 640x480 with 1 Axes>"
            ],
            "image/png": "[encoded data removed]"
          },
          "metadata": {}
        }
      ]
    },
    {
      "cell_type": "markdown",
      "source": [
        "* As you can see, the vectors making up the matrix $B$ do not form a parallelogram.\n",
        "\n",
        "* In other words the parallogram has zero area, and so $\\det B=0$, as we saw by calculation"
      ],
      "metadata": {
        "id": "gFBYWaN8ST0O"
      }
    },
    {
      "cell_type": "code",
      "source": [],
      "metadata": {
        "id": "q8lXEGMXSREW"
      },
      "execution_count": null,
      "outputs": []
    },
    {
      "cell_type": "markdown",
      "source": [
        "# Exercise 2\n",
        "\n",
        "Using the Matrices and vectors from Exercise 4 of Lecture 3.pdf calcuate the determinants of $P$ and $Q$ and plot the corresponding parallelograms\n",
        "\n"
      ],
      "metadata": {
        "id": "YbW51tHxSu_e"
      }
    },
    {
      "cell_type": "code",
      "source": [],
      "metadata": {
        "id": "9yLwpAURU4JG"
      },
      "execution_count": 41,
      "outputs": []
    },
    {
      "cell_type": "code",
      "source": [],
      "metadata": {
        "id": "RQqKny5zU52V"
      },
      "execution_count": null,
      "outputs": []
    },
    {
      "cell_type": "code",
      "source": [],
      "metadata": {
        "id": "h7oTrC_xU5rM"
      },
      "execution_count": null,
      "outputs": []
    },
    {
      "cell_type": "code",
      "source": [],
      "metadata": {
        "id": "PKD9Z24zU5ld"
      },
      "execution_count": null,
      "outputs": []
    },
    {
      "cell_type": "code",
      "source": [],
      "metadata": {
        "id": "l_4kR9DcU5hG"
      },
      "execution_count": null,
      "outputs": []
    },
    {
      "cell_type": "code",
      "source": [],
      "metadata": {
        "id": "gBnF5lRkU5e9"
      },
      "execution_count": null,
      "outputs": []
    },
    {
      "cell_type": "code",
      "source": [],
      "metadata": {
        "id": "07oVS2uBU5ct"
      },
      "execution_count": null,
      "outputs": []
    },
    {
      "cell_type": "code",
      "source": [],
      "metadata": {
        "id": "RMZ0RchUU5af"
      },
      "execution_count": null,
      "outputs": []
    },
    {
      "cell_type": "code",
      "source": [],
      "metadata": {
        "id": "gftp9NMNU5YN"
      },
      "execution_count": null,
      "outputs": []
    },
    {
      "cell_type": "code",
      "source": [],
      "metadata": {
        "id": "RTwvx5ajU5Vt"
      },
      "execution_count": null,
      "outputs": []
    },
    {
      "cell_type": "code",
      "source": [],
      "metadata": {
        "id": "8_xbMyzdU5S9"
      },
      "execution_count": null,
      "outputs": []
    },
    {
      "cell_type": "code",
      "source": [],
      "metadata": {
        "id": "gXbqj9mUU5Ql"
      },
      "execution_count": null,
      "outputs": []
    },
    {
      "cell_type": "code",
      "source": [],
      "metadata": {
        "id": "EaAZl3R-U5OV"
      },
      "execution_count": null,
      "outputs": []
    },
    {
      "cell_type": "markdown",
      "source": [
        "# Matrix Inverses\n",
        "\n",
        "* In Exercise 5 of Lecture 3.pdf we are asked to check our calculations for the matrix\n",
        "\\\\[M=\\begin{bmatrix} -3 & 4 \\\\ 2 & 1\\end{bmatrix}\\\\]\n",
        "\n",
        "* To do this we will use the __M2()__ command to define $M$\n",
        "\n",
        "* Next we will use the __inv()__ command to find $M^{-1}$\n",
        "\n",
        "* Then we use __.dot()__ to calculate $M^{-1}.M$ and $M.M^{-1}$"
      ],
      "metadata": {
        "id": "F6NuY-cgU6Z9"
      }
    },
    {
      "cell_type": "code",
      "source": [
        "M=M2(-3,4,2,1)\n",
        "M"
      ],
      "metadata": {
        "colab": {
          "base_uri": "https://localhost:8080/"
        },
        "id": "8g1TVzRKYLoW",
        "outputId": "acacfcf4-132e-4ff8-dedf-aceaea3a67c0"
      },
      "execution_count": 42,
      "outputs": [
        {
          "output_type": "execute_result",
          "data": {
            "text/plain": [
              "array([[-3,  4],\n",
              "       [ 2,  1]])"
            ]
          },
          "metadata": {},
          "execution_count": 42
        }
      ]
    },
    {
      "cell_type": "code",
      "source": [
        "iM=inv(M)\n",
        "iM"
      ],
      "metadata": {
        "colab": {
          "base_uri": "https://localhost:8080/"
        },
        "id": "z-piRZRSYR3G",
        "outputId": "3075a246-7067-4bbf-fa9d-d283183e1661"
      },
      "execution_count": 43,
      "outputs": [
        {
          "output_type": "execute_result",
          "data": {
            "text/plain": [
              "array([[-0.09090909,  0.36363636],\n",
              "       [ 0.18181818,  0.27272727]])"
            ]
          },
          "metadata": {},
          "execution_count": 43
        }
      ]
    },
    {
      "cell_type": "markdown",
      "source": [
        "* It is not clear how these numbers are obtained, but if we multiply __iM__ by __det(M)__ we will see the usual rule in action:"
      ],
      "metadata": {
        "id": "i0ecBXDfYb69"
      }
    },
    {
      "cell_type": "code",
      "source": [
        "det(M)*iM"
      ],
      "metadata": {
        "colab": {
          "base_uri": "https://localhost:8080/"
        },
        "id": "QIF97aGaYWHl",
        "outputId": "35f4b8a9-1650-4b8c-ee6e-ca4cb67cc4f7"
      },
      "execution_count": 45,
      "outputs": [
        {
          "output_type": "execute_result",
          "data": {
            "text/plain": [
              "array([[ 1., -4.],\n",
              "       [-2., -3.]])"
            ]
          },
          "metadata": {},
          "execution_count": 45
        }
      ]
    },
    {
      "cell_type": "markdown",
      "source": [
        "* Now we use __.dot()__ to calcualte $M.M^{-1}$ and $M^{-1}.M$"
      ],
      "metadata": {
        "id": "DbeiuOD5Y0Fd"
      }
    },
    {
      "cell_type": "code",
      "source": [
        "M.dot(iM)"
      ],
      "metadata": {
        "colab": {
          "base_uri": "https://localhost:8080/"
        },
        "id": "mJDrCXsbYuml",
        "outputId": "8deb2d65-52f3-4ee4-8278-b2d7b5ca0de8"
      },
      "execution_count": 46,
      "outputs": [
        {
          "output_type": "execute_result",
          "data": {
            "text/plain": [
              "array([[1.00000000e+00, 2.22044605e-16],\n",
              "       [2.77555756e-17, 1.00000000e+00]])"
            ]
          },
          "metadata": {},
          "execution_count": 46
        }
      ]
    },
    {
      "cell_type": "code",
      "source": [
        "iM.dot(M)"
      ],
      "metadata": {
        "colab": {
          "base_uri": "https://localhost:8080/"
        },
        "id": "0O3D17C-Y_zF",
        "outputId": "dce68f48-f4a8-4d95-989d-1eab5422f242"
      },
      "execution_count": 47,
      "outputs": [
        {
          "output_type": "execute_result",
          "data": {
            "text/plain": [
              "array([[1.00000000e+00, 5.55111512e-17],\n",
              "       [1.11022302e-16, 1.00000000e+00]])"
            ]
          },
          "metadata": {},
          "execution_count": 47
        }
      ]
    },
    {
      "cell_type": "markdown",
      "source": [
        "* We can see we are not getting the identiy matrix exactly, this is becuase of the rounding errors introduced when python converts the fractions to binary.\n",
        "\n",
        "* To get back the correct answer, we will use __np.roun()__ to round our answers to __10 decimal places__, which should give back the answers we expect."
      ],
      "metadata": {
        "id": "AZLPh2BdZGhN"
      }
    },
    {
      "cell_type": "code",
      "source": [
        "np.round(M.dot(iM),10)"
      ],
      "metadata": {
        "colab": {
          "base_uri": "https://localhost:8080/"
        },
        "id": "R0I3ZDBnZFZV",
        "outputId": "86592b0a-a135-470d-d83a-3290803fe6c5"
      },
      "execution_count": 48,
      "outputs": [
        {
          "output_type": "execute_result",
          "data": {
            "text/plain": [
              "array([[1., 0.],\n",
              "       [0., 1.]])"
            ]
          },
          "metadata": {},
          "execution_count": 48
        }
      ]
    },
    {
      "cell_type": "code",
      "source": [
        "np.round(iM.dot(M),10)"
      ],
      "metadata": {
        "colab": {
          "base_uri": "https://localhost:8080/"
        },
        "id": "lV-NxwHTZiml",
        "outputId": "549340cf-6596-4829-f4ff-a3f1edfa75bd"
      },
      "execution_count": 49,
      "outputs": [
        {
          "output_type": "execute_result",
          "data": {
            "text/plain": [
              "array([[1., 0.],\n",
              "       [0., 1.]])"
            ]
          },
          "metadata": {},
          "execution_count": 49
        }
      ]
    },
    {
      "cell_type": "markdown",
      "source": [
        "* We see everything working as expected."
      ],
      "metadata": {
        "id": "DMB60PR8ZmbV"
      }
    },
    {
      "cell_type": "code",
      "source": [],
      "metadata": {
        "id": "TPNQiBy9ZlCG"
      },
      "execution_count": null,
      "outputs": []
    },
    {
      "cell_type": "markdown",
      "source": [
        "# Exercise 3\n",
        "\n",
        "* Use the same method to check your calculations from Exercise 5 of Lecture 3.pdf"
      ],
      "metadata": {
        "id": "R62mJw7FZucl"
      }
    },
    {
      "cell_type": "code",
      "source": [],
      "metadata": {
        "id": "_Wam2Eu1Z3TI"
      },
      "execution_count": null,
      "outputs": []
    },
    {
      "cell_type": "code",
      "source": [],
      "metadata": {
        "id": "eHLdPQ_uZ3QU"
      },
      "execution_count": null,
      "outputs": []
    },
    {
      "cell_type": "code",
      "source": [],
      "metadata": {
        "id": "qvKtwf-GZ3OF"
      },
      "execution_count": null,
      "outputs": []
    },
    {
      "cell_type": "code",
      "source": [],
      "metadata": {
        "id": "1RFCUsMMZ3Lt"
      },
      "execution_count": null,
      "outputs": []
    },
    {
      "cell_type": "code",
      "source": [],
      "metadata": {
        "id": "9sP-fQvnZ3Je"
      },
      "execution_count": null,
      "outputs": []
    },
    {
      "cell_type": "code",
      "source": [],
      "metadata": {
        "id": "SJNgTmHhZ3HN"
      },
      "execution_count": null,
      "outputs": []
    },
    {
      "cell_type": "code",
      "source": [],
      "metadata": {
        "id": "3rq2WnVVZ3E9"
      },
      "execution_count": null,
      "outputs": []
    },
    {
      "cell_type": "code",
      "source": [],
      "metadata": {
        "id": "7Mf69CZpZ3Cu"
      },
      "execution_count": null,
      "outputs": []
    },
    {
      "cell_type": "code",
      "source": [],
      "metadata": {
        "id": "foy4A3_LZ3AY"
      },
      "execution_count": null,
      "outputs": []
    },
    {
      "cell_type": "code",
      "source": [],
      "metadata": {
        "id": "86cVX_0pZ2BF"
      },
      "execution_count": 49,
      "outputs": []
    }
  ],
  "metadata": {
    "anaconda-cloud": {},
    "colab": {
      "provenance": [],
      "include_colab_link": true
    },
    "kernelspec": {
      "display_name": "Python 3 (ipykernel)",
      "language": "python",
      "name": "python3"
    },
    "language_info": {
      "codemirror_mode": {
        "name": "ipython",
        "version": 3
      },
      "file_extension": ".py",
      "mimetype": "text/x-python",
      "name": "python",
      "nbconvert_exporter": "python",
      "pygments_lexer": "ipython3",
      "version": "3.9.12"
    }
  },
  "nbformat": 4,
  "nbformat_minor": 0
}