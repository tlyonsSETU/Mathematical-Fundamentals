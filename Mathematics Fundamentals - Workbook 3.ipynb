{
  "cells": [
    {
      "cell_type": "markdown",
      "metadata": {
        "id": "view-in-github",
        "colab_type": "text"
      },
      "source": [
        "<a href=\"https://colab.research.google.com/github/tlyonsSETU/Mathematical-Fundamentals/blob/main/Mathematics%20Fundamentals%20-%20Workbook%203.ipynb\" target=\"_parent\"><img src=\"https://colab.research.google.com/assets/colab-badge.svg\" alt=\"Open In Colab\"/></a>"
      ]
    },
    {
      "cell_type": "markdown",
      "metadata": {
        "collapsed": true,
        "id": "c_3_zOKaqFM_"
      },
      "source": [
        "# Mathematics Fundamentals - Python Workbook 3\n",
        "\n",
        "## BSc Computing (ACCS) - Year 1\n",
        "\n",
        "# South East Technological University - Waterford\n",
        "\n",
        "---\n"
      ]
    },
    {
      "cell_type": "markdown",
      "metadata": {
        "id": "01mAAaYV5WAM"
      },
      "source": [
        "# Topics - Matrices, Vectors and Lines\n",
        "## Items Covered:\n",
        "\n",
        "1. Identity Matrix\n",
        "\n",
        "2. Matrix Determinants\n",
        "\n",
        "3. Inverse Matrices\n",
        "\n",
        "4. Matrix Multiplication\n",
        "\n",
        "5. Linear Functions and Lines\n",
        "\n"
      ]
    },
    {
      "cell_type": "markdown",
      "metadata": {
        "id": "mmWPdMeCqFNH"
      },
      "source": [
        "## Calling the python libraries and functions\n",
        "\n",
        "\n",
        "* In the cell below the necessary Python libraries and functions are imported, which will be needed for the current work book\n"
      ]
    },
    {
      "cell_type": "code",
      "execution_count": 11,
      "metadata": {
        "id": "7Qk8SxWnqFNJ"
      },
      "outputs": [],
      "source": [
        "import matplotlib.pyplot as plt  ## Library of functions for 2D plotting\n",
        "import numpy as np ## Library of function for numerical work\n",
        "\n",
        "from numpy.linalg import det,inv # For calculating determinants and matrix inverses\n",
        "\n",
        "from google.colab import files # For downloading figures"
      ]
    },
    {
      "cell_type": "markdown",
      "metadata": {
        "id": "-AxgXKv9mDvM"
      },
      "source": [
        "## Some useful function definitions\n",
        "\n",
        "### __v2d(a,b)__\n",
        "\n",
        "* A function for creating 2D-vectors"
      ]
    },
    {
      "cell_type": "code",
      "execution_count": null,
      "metadata": {
        "id": "LizJ0Uv6mRwU"
      },
      "outputs": [],
      "source": [
        "def v2d(a,b):\n",
        "    return np.array([a,b])"
      ]
    },
    {
      "cell_type": "markdown",
      "metadata": {
        "id": "BO3oRjC-mYxc"
      },
      "source": [
        "### __M2(a,b,c,d)__\n",
        "A function to create a __2x2 matrix__ of the form\n",
        "$$\n",
        "\\begin{bmatrix}\n",
        "a & b \\\\ c & d\n",
        "\\end{bmatrix}\n",
        "$$"
      ]
    },
    {
      "cell_type": "code",
      "execution_count": null,
      "metadata": {
        "id": "d07pGZucmuPw"
      },
      "outputs": [],
      "source": [
        "def M2(a,b,c,d):\n",
        "    return np.array([[a , b] , [c , d]])"
      ]
    },
    {
      "cell_type": "markdown",
      "metadata": {
        "id": "RiZg8t2Spc80"
      },
      "source": [
        "### __R2(t)__\n",
        "A function the create a rotation vector with __t__ a rotation angle in __degrees__"
      ]
    },
    {
      "cell_type": "code",
      "execution_count": null,
      "metadata": {
        "id": "9ywhyGEJpp-0"
      },
      "outputs": [],
      "source": [
        "def R2(t):\n",
        "    r=np.radians(t)\n",
        "    c=np.cos(r)\n",
        "    s=np.sin(r)\n",
        "    return np.array([[c , -s] , [s , c]])"
      ]
    },
    {
      "cell_type": "markdown",
      "metadata": {
        "id": "og4C62HQ560Q"
      },
      "source": [
        "---"
      ]
    },
    {
      "cell_type": "markdown",
      "metadata": {
        "id": "HDD5YydnnHoy"
      },
      "source": [
        "# Item 1 - Identity Matrices in Python\n",
        "\n",
        "* In python there is a very quick way to set up the 2x2 identity matrix using the __np.eye()__ function.\n",
        "\n",
        "* To create the 2x2 identity matrix we use __np.eye(2)__ as shown below:"
      ]
    },
    {
      "cell_type": "code",
      "source": [
        "I=np.eye(2)\n",
        "I"
      ],
      "metadata": {
        "colab": {
          "base_uri": "https://localhost:8080/"
        },
        "id": "BqVRifFPNDyv",
        "outputId": "eafcf214-4f4f-4676-9300-1dad1324a998"
      },
      "execution_count": null,
      "outputs": [
        {
          "output_type": "execute_result",
          "data": {
            "text/plain": [
              "array([[1., 0.],\n",
              "       [0., 1.]])"
            ]
          },
          "metadata": {},
          "execution_count": 7
        }
      ]
    },
    {
      "cell_type": "markdown",
      "source": [
        "* We can extend this to any number of dimensions by changing the argument of __np.eye()__.\n",
        "\n",
        "* For example, the 3x3  and 11x11 identiity matrices are:"
      ],
      "metadata": {
        "id": "zzQSrt_bNRmu"
      }
    },
    {
      "cell_type": "code",
      "source": [
        "np.eye(3)"
      ],
      "metadata": {
        "colab": {
          "base_uri": "https://localhost:8080/"
        },
        "id": "zbM1OG4dNjvQ",
        "outputId": "eb9268b9-e18e-454b-8451-e23ba6db837d"
      },
      "execution_count": null,
      "outputs": [
        {
          "output_type": "execute_result",
          "data": {
            "text/plain": [
              "array([[1., 0., 0.],\n",
              "       [0., 1., 0.],\n",
              "       [0., 0., 1.]])"
            ]
          },
          "metadata": {},
          "execution_count": 8
        }
      ]
    },
    {
      "cell_type": "code",
      "source": [
        "np.eye(11)"
      ],
      "metadata": {
        "colab": {
          "base_uri": "https://localhost:8080/"
        },
        "id": "pX_PwDz-Nj0I",
        "outputId": "fec3dc57-1cb4-4835-887d-2ffb7895cf24"
      },
      "execution_count": null,
      "outputs": [
        {
          "output_type": "execute_result",
          "data": {
            "text/plain": [
              "array([[1., 0., 0., 0., 0., 0., 0., 0., 0., 0., 0.],\n",
              "       [0., 1., 0., 0., 0., 0., 0., 0., 0., 0., 0.],\n",
              "       [0., 0., 1., 0., 0., 0., 0., 0., 0., 0., 0.],\n",
              "       [0., 0., 0., 1., 0., 0., 0., 0., 0., 0., 0.],\n",
              "       [0., 0., 0., 0., 1., 0., 0., 0., 0., 0., 0.],\n",
              "       [0., 0., 0., 0., 0., 1., 0., 0., 0., 0., 0.],\n",
              "       [0., 0., 0., 0., 0., 0., 1., 0., 0., 0., 0.],\n",
              "       [0., 0., 0., 0., 0., 0., 0., 1., 0., 0., 0.],\n",
              "       [0., 0., 0., 0., 0., 0., 0., 0., 1., 0., 0.],\n",
              "       [0., 0., 0., 0., 0., 0., 0., 0., 0., 1., 0.],\n",
              "       [0., 0., 0., 0., 0., 0., 0., 0., 0., 0., 1.]])"
            ]
          },
          "metadata": {},
          "execution_count": 9
        }
      ]
    },
    {
      "cell_type": "markdown",
      "metadata": {
        "id": "4lubyrogt_cA"
      },
      "source": [
        "## __Example__ 1\n",
        "\n",
        "Given the matrices\n",
        "$$\n",
        "\\mathbf{M} =\n",
        "\\begin{bmatrix}\n",
        "-1 & 3 \\\\ 2 & 1\n",
        "\\end{bmatrix}\n",
        "\\qquad\n",
        "\\mathbf{R} =\n",
        "\\begin{bmatrix}\n",
        "\\cos(45) & -\\sin(45) \\\\ \\sin(45) & \\cos(45)\n",
        "\\end{bmatrix}\n",
        "$$\n",
        "and the vector $\\vec{u} = \\begin{bmatrix} 2 \\\\ 5\\end{bmatrix}$\n",
        "show that $I.M=M$, $I.R=R$ and $I.\\vec{u}=\\vec{u}$"
      ]
    },
    {
      "cell_type": "markdown",
      "metadata": {
        "id": "9f0zVBnivQVE"
      },
      "source": [
        "### __Solution__\n",
        "\n",
        "* To indicate matrix multiplication we must use the __.dot()__ command.\n",
        "\n",
        "* But first we must set up the matrices $M$ and $R$ and the vector $\\vec{u}$ using the functions __M2()__, __R()__ and __v2d()__"
      ]
    },
    {
      "cell_type": "code",
      "execution_count": null,
      "metadata": {
        "colab": {
          "base_uri": "https://localhost:8080/"
        },
        "id": "nRqNNI-juchl",
        "outputId": "236878ad-fb24-43f0-96ee-a87354bc8fb2"
      },
      "outputs": [
        {
          "output_type": "execute_result",
          "data": {
            "text/plain": [
              "array([[-1,  3],\n",
              "       [ 2,  1]])"
            ]
          },
          "metadata": {},
          "execution_count": 10
        }
      ],
      "source": [
        "M=M2(-1,3,2,1)\n",
        "M"
      ]
    },
    {
      "cell_type": "code",
      "execution_count": null,
      "metadata": {
        "colab": {
          "base_uri": "https://localhost:8080/"
        },
        "id": "ortUPnjHvl70",
        "outputId": "e96c6178-8de7-4cee-d5c8-2d8fcc7e9bba"
      },
      "outputs": [
        {
          "output_type": "execute_result",
          "data": {
            "text/plain": [
              "array([[ 0.70710678, -0.70710678],\n",
              "       [ 0.70710678,  0.70710678]])"
            ]
          },
          "metadata": {},
          "execution_count": 12
        }
      ],
      "source": [
        "R=R2(45)\n",
        "R"
      ]
    },
    {
      "cell_type": "code",
      "execution_count": null,
      "metadata": {
        "colab": {
          "base_uri": "https://localhost:8080/"
        },
        "id": "Ihuhi_7Zvsm0",
        "outputId": "f75b707f-4150-47ac-bd89-45ad31ac38f6"
      },
      "outputs": [
        {
          "output_type": "execute_result",
          "data": {
            "text/plain": [
              "array([2, 5])"
            ]
          },
          "metadata": {},
          "execution_count": 14
        }
      ],
      "source": [
        "u=v2d(2,5)\n",
        "u"
      ]
    },
    {
      "cell_type": "code",
      "execution_count": null,
      "metadata": {
        "id": "tpIM9ivuvwks"
      },
      "outputs": [],
      "source": []
    },
    {
      "cell_type": "markdown",
      "metadata": {
        "id": "TBWG7KV8v1BF"
      },
      "source": [
        "* We have already defined __I=np.eye(2)__, so we can use __I__ for short, and so the matrix multiplication is now"
      ]
    },
    {
      "cell_type": "code",
      "execution_count": null,
      "metadata": {
        "colab": {
          "base_uri": "https://localhost:8080/"
        },
        "id": "51F4jMyov7Hs",
        "outputId": "4fa1a33c-2e44-4761-b614-ba073742203a"
      },
      "outputs": [
        {
          "output_type": "execute_result",
          "data": {
            "text/plain": [
              "array([[-1.,  3.],\n",
              "       [ 2.,  1.]])"
            ]
          },
          "metadata": {},
          "execution_count": 17
        }
      ],
      "source": [
        "I.dot(M)"
      ]
    },
    {
      "cell_type": "code",
      "execution_count": null,
      "metadata": {
        "colab": {
          "base_uri": "https://localhost:8080/"
        },
        "id": "XFN6KpuRv-DM",
        "outputId": "1d3746df-4b15-48c5-f37b-52023a74438d"
      },
      "outputs": [
        {
          "output_type": "execute_result",
          "data": {
            "text/plain": [
              "array([[ 0.70710678, -0.70710678],\n",
              "       [ 0.70710678,  0.70710678]])"
            ]
          },
          "metadata": {},
          "execution_count": 18
        }
      ],
      "source": [
        "I.dot(R)"
      ]
    },
    {
      "cell_type": "code",
      "source": [
        "I.dot(u)"
      ],
      "metadata": {
        "colab": {
          "base_uri": "https://localhost:8080/"
        },
        "id": "NmrS4HnnOvQv",
        "outputId": "bb5513ab-ef2d-458c-e1f2-f04e51fba1ca"
      },
      "execution_count": null,
      "outputs": [
        {
          "output_type": "execute_result",
          "data": {
            "text/plain": [
              "array([2., 5.])"
            ]
          },
          "metadata": {},
          "execution_count": 19
        }
      ]
    },
    {
      "cell_type": "markdown",
      "metadata": {
        "id": "xxGDsxuY9c4F"
      },
      "source": [
        "## _Exercise_ 1\n",
        "\n",
        "Given the matrices\n",
        "$$\n",
        "\\mathbf{A} =\n",
        "\\begin{bmatrix}\n",
        "2 & -4 \\\\ 1 & 3\n",
        "\\end{bmatrix}\n",
        "\\qquad\n",
        "\\mathbf{B}\n",
        "=\n",
        "\\begin{bmatrix}\n",
        "3 & 2 \\\\ -2 & 3\n",
        "\\end{bmatrix}\n",
        "$$\n",
        "and the vector\n",
        "$$\n",
        "\\vec{p} =\n",
        "\\begin{bmatrix}\n",
        "-1 \\\\ 3\n",
        "\\end{bmatrix}\n",
        "$$\n",
        "show the $I.A=A$, $I.B=B$ and $I.\\vec{p}=\\vec{p}$\n",
        "\n"
      ]
    },
    {
      "cell_type": "code",
      "execution_count": null,
      "metadata": {
        "id": "F2tokhN__3BB"
      },
      "outputs": [],
      "source": []
    },
    {
      "cell_type": "code",
      "execution_count": null,
      "metadata": {
        "id": "2ZZDeQG3_3Dg"
      },
      "outputs": [],
      "source": []
    },
    {
      "cell_type": "code",
      "execution_count": null,
      "metadata": {
        "id": "gojmfdvQ_3GM"
      },
      "outputs": [],
      "source": []
    },
    {
      "cell_type": "markdown",
      "source": [
        "# Determinants of Matrices\n",
        "\n",
        "* In this section we are going to calcualte the determinants of the matrices\n",
        "\\\\[A=\\begin{bmatrix} -1 & 4 \\\\ -3 & 2\\end{bmatrix} \\qquad B= \\begin{bmatrix} 2 & -1 \\\\ -6 & 3\\end{bmatrix}\\\\]\n",
        "from Example 3 of Lecture 3.pdf\n",
        "\n",
        "* We will aslo plat the parallelograms formed by the 2D-vectors making up these matrices\n",
        "\n",
        "### Solution\n",
        "\n",
        "* To begin we define the matrices and vectors"
      ],
      "metadata": {
        "id": "qfyjr4NTPlUO"
      }
    },
    {
      "cell_type": "code",
      "source": [
        "A=M2(-1,4,-3,2)\n",
        "A"
      ],
      "metadata": {
        "colab": {
          "base_uri": "https://localhost:8080/"
        },
        "id": "qQjVz7qYQgVW",
        "outputId": "2292e83a-2417-4aa8-d5f0-d2ba502f3188"
      },
      "execution_count": null,
      "outputs": [
        {
          "output_type": "execute_result",
          "data": {
            "text/plain": [
              "array([[-1,  4],\n",
              "       [-3,  2]])"
            ]
          },
          "metadata": {},
          "execution_count": 20
        }
      ]
    },
    {
      "cell_type": "code",
      "source": [
        "B=M2(2,-1,-6,3)\n",
        "B"
      ],
      "metadata": {
        "colab": {
          "base_uri": "https://localhost:8080/"
        },
        "id": "W3RJyx78Qokp",
        "outputId": "ff010541-607b-4e47-a0af-d61637a5e8a2"
      },
      "execution_count": null,
      "outputs": [
        {
          "output_type": "execute_result",
          "data": {
            "text/plain": [
              "array([[ 2, -1],\n",
              "       [-6,  3]])"
            ]
          },
          "metadata": {},
          "execution_count": 21
        }
      ]
    },
    {
      "cell_type": "code",
      "source": [
        "p=v2d(-1,-3)\n",
        "p"
      ],
      "metadata": {
        "colab": {
          "base_uri": "https://localhost:8080/"
        },
        "id": "bHJIBzQ4QrYm",
        "outputId": "292869db-4167-496a-e5ce-f779b772fcd1"
      },
      "execution_count": null,
      "outputs": [
        {
          "output_type": "execute_result",
          "data": {
            "text/plain": [
              "array([-1, -3])"
            ]
          },
          "metadata": {},
          "execution_count": 22
        }
      ]
    },
    {
      "cell_type": "code",
      "source": [
        "q=v2d(4,2)\n",
        "q"
      ],
      "metadata": {
        "colab": {
          "base_uri": "https://localhost:8080/"
        },
        "id": "1gemKUI0QvSo",
        "outputId": "08b08377-37ae-4044-8214-1f90b3b46850"
      },
      "execution_count": null,
      "outputs": [
        {
          "output_type": "execute_result",
          "data": {
            "text/plain": [
              "array([4, 2])"
            ]
          },
          "metadata": {},
          "execution_count": 23
        }
      ]
    },
    {
      "cell_type": "code",
      "source": [
        "r=v2d(2,-6)\n",
        "r"
      ],
      "metadata": {
        "colab": {
          "base_uri": "https://localhost:8080/"
        },
        "id": "CyrJhJm8QyfW",
        "outputId": "abf38d64-6426-46e5-d158-28e9fb9535be"
      },
      "execution_count": null,
      "outputs": [
        {
          "output_type": "execute_result",
          "data": {
            "text/plain": [
              "array([ 2, -6])"
            ]
          },
          "metadata": {},
          "execution_count": 24
        }
      ]
    },
    {
      "cell_type": "code",
      "source": [
        "s=v2d(-1,3)\n",
        "s"
      ],
      "metadata": {
        "colab": {
          "base_uri": "https://localhost:8080/"
        },
        "id": "L4kk6jKaQ1cn",
        "outputId": "824312d8-23fe-42eb-9651-20ae66a0344a"
      },
      "execution_count": null,
      "outputs": [
        {
          "output_type": "execute_result",
          "data": {
            "text/plain": [
              "array([-1,  3])"
            ]
          },
          "metadata": {},
          "execution_count": 25
        }
      ]
    },
    {
      "cell_type": "code",
      "source": [],
      "metadata": {
        "id": "UOc_TCUTQ381"
      },
      "execution_count": null,
      "outputs": []
    },
    {
      "cell_type": "markdown",
      "source": [
        "* Now we use the __det()__ command to find the determinants of the matrices:"
      ],
      "metadata": {
        "id": "8yaVMHn1Q52p"
      }
    },
    {
      "cell_type": "code",
      "source": [
        "detA=det(A)\n",
        "detA"
      ],
      "metadata": {
        "colab": {
          "base_uri": "https://localhost:8080/"
        },
        "id": "KlL1Lf4sROwG",
        "outputId": "7271a7b6-74f0-4020-c01f-d89a9956f5fd"
      },
      "execution_count": null,
      "outputs": [
        {
          "output_type": "execute_result",
          "data": {
            "text/plain": [
              "10.000000000000002"
            ]
          },
          "metadata": {},
          "execution_count": 28
        }
      ]
    },
    {
      "cell_type": "code",
      "source": [
        "detB=det(B)\n",
        "detB"
      ],
      "metadata": {
        "colab": {
          "base_uri": "https://localhost:8080/"
        },
        "id": "Dm1MVDRVRRKm",
        "outputId": "2f58f454-f6ad-42b9-f3c6-355f255f4ad3"
      },
      "execution_count": null,
      "outputs": [
        {
          "output_type": "execute_result",
          "data": {
            "text/plain": [
              "0.0"
            ]
          },
          "metadata": {},
          "execution_count": 29
        }
      ]
    },
    {
      "cell_type": "code",
      "source": [],
      "metadata": {
        "id": "Q8kjrzpFRTdG"
      },
      "execution_count": null,
      "outputs": []
    },
    {
      "cell_type": "markdown",
      "source": [
        "* Next we use __plt.quiver()__ to plot the parallelogram formed by each matrix:"
      ],
      "metadata": {
        "id": "jWQETasIRU-o"
      }
    },
    {
      "cell_type": "code",
      "source": [
        "## Plot for Matrix A\n",
        "\n",
        "plt.quiver(0,0,p[0],p[1],color='k',scale=1,scale_units='xy',angles='xy')\n",
        "plt.quiver(0,0,q[0],q[1],color='r',scale=1,scale_units='xy',angles='xy')\n",
        "plt.quiver(q[0],q[1],p[0],p[1],color='k',scale=1,scale_units='xy',angles='xy')\n",
        "plt.quiver(p[0],p[1],q[0],q[1],color='r',scale=1,scale_units='xy',angles='xy')\n",
        "\n",
        "\n",
        "plt.xlabel('x')\n",
        "plt.ylabel('y')\n",
        "\n",
        "plt.savefig('Parallel1.pdf') # Save the fig as a pdf file called Parallel1.pdf\n",
        "files.download('Parallel1.pdf') # Download this pdf to your computer"
      ],
      "metadata": {
        "colab": {
          "base_uri": "https://localhost:8080/",
          "height": 449
        },
        "id": "4pNYIRQlRb93",
        "outputId": "9f926ce4-095c-413c-90d7-321583c94111"
      },
      "execution_count": null,
      "outputs": [
        {
          "output_type": "display_data",
          "data": {
            "text/plain": [
              "<IPython.core.display.Javascript object>"
            ],
            "application/javascript": [
              "\n",
              "    async function download(id, filename, size) {\n",
              "      if (!google.colab.kernel.accessAllowed) {\n",
              "        return;\n",
              "      }\n",
              "      const div = document.createElement('div');\n",
              "      const label = document.createElement('label');\n",
              "      label.textContent = `Downloading \"${filename}\": `;\n",
              "      div.appendChild(label);\n",
              "      const progress = document.createElement('progress');\n",
              "      progress.max = size;\n",
              "      div.appendChild(progress);\n",
              "      document.body.appendChild(div);\n",
              "\n",
              "      const buffers = [];\n",
              "      let downloaded = 0;\n",
              "\n",
              "      const channel = await google.colab.kernel.comms.open(id);\n",
              "      // Send a message to notify the kernel that we're ready.\n",
              "      channel.send({})\n",
              "\n",
              "      for await (const message of channel.messages) {\n",
              "        // Send a message to notify the kernel that we're ready.\n",
              "        channel.send({})\n",
              "        if (message.buffers) {\n",
              "          for (const buffer of message.buffers) {\n",
              "            buffers.push(buffer);\n",
              "            downloaded += buffer.byteLength;\n",
              "            progress.value = downloaded;\n",
              "          }\n",
              "        }\n",
              "      }\n",
              "      const blob = new Blob(buffers, {type: 'application/binary'});\n",
              "      const a = document.createElement('a');\n",
              "      a.href = window.URL.createObjectURL(blob);\n",
              "      a.download = filename;\n",
              "      div.appendChild(a);\n",
              "      a.click();\n",
              "      div.remove();\n",
              "    }\n",
              "  "
            ]
          },
          "metadata": {}
        },
        {
          "output_type": "display_data",
          "data": {
            "text/plain": [
              "<IPython.core.display.Javascript object>"
            ],
            "application/javascript": [
              "download(\"download_dd057487-7b9a-465d-9f81-5464240c4073\", \"Parallel1.pdf\", 6061)"
            ]
          },
          "metadata": {}
        },
        {
          "output_type": "display_data",
          "data": {
            "text/plain": [
              "<Figure size 640x480 with 1 Axes>"
            ],
            "image/png": "[encoded data removed]"
          },
          "metadata": {}
        }
      ]
    },
    {
      "cell_type": "markdown",
      "source": [
        "* The area of this parallelogram is 10 sq. units"
      ],
      "metadata": {
        "id": "ntY3C8oJSE83"
      }
    },
    {
      "cell_type": "code",
      "source": [
        "## Plot for Matrix A\n",
        "\n",
        "plt.quiver(0,0,r[0],r[1],color='k',scale=1,scale_units='xy',angles='xy')\n",
        "plt.quiver(0,0,s[0],s[1],color='r',scale=1,scale_units='xy',angles='xy')\n",
        "plt.quiver(s[0],s[1],r[0],r[1],color='k',scale=1,scale_units='xy',angles='xy')\n",
        "plt.quiver(r[0],r[1],s[0],s[1],color='r',scale=1,scale_units='xy',angles='xy')\n",
        "\n",
        "\n",
        "plt.xlabel('x')\n",
        "plt.ylabel('y')"
      ],
      "metadata": {
        "colab": {
          "base_uri": "https://localhost:8080/",
          "height": 467
        },
        "id": "hfMlXgFpRlgG",
        "outputId": "026cf400-1115-4437-d119-9ecab470b719"
      },
      "execution_count": null,
      "outputs": [
        {
          "output_type": "execute_result",
          "data": {
            "text/plain": [
              "Text(0, 0.5, 'y')"
            ]
          },
          "metadata": {},
          "execution_count": 37
        },
        {
          "output_type": "display_data",
          "data": {
            "text/plain": [
              "<Figure size 640x480 with 1 Axes>"
            ],
            "image/png": "[encoded data removed]"
          },
          "metadata": {}
        }
      ]
    },
    {
      "cell_type": "markdown",
      "source": [
        "* As you can see, the vectors making up the matrix $B$ do not form a parallelogram.\n",
        "\n",
        "* In other words the parallogram has zero area, and so $\\det B=0$, as we saw by calculation"
      ],
      "metadata": {
        "id": "gFBYWaN8ST0O"
      }
    },
    {
      "cell_type": "code",
      "source": [],
      "metadata": {
        "id": "q8lXEGMXSREW"
      },
      "execution_count": null,
      "outputs": []
    },
    {
      "cell_type": "markdown",
      "source": [
        "# Exercise 2\n",
        "\n",
        "Using the Matrices and vectors from Exercise 4 of Lecture 3.pdf calcuate the determinants of $P$ and $Q$ and plot the corresponding parallelograms\n",
        "\n"
      ],
      "metadata": {
        "id": "YbW51tHxSu_e"
      }
    },
    {
      "cell_type": "code",
      "source": [],
      "metadata": {
        "id": "9yLwpAURU4JG"
      },
      "execution_count": null,
      "outputs": []
    },
    {
      "cell_type": "code",
      "source": [],
      "metadata": {
        "id": "RQqKny5zU52V"
      },
      "execution_count": null,
      "outputs": []
    },
    {
      "cell_type": "code",
      "source": [],
      "metadata": {
        "id": "h7oTrC_xU5rM"
      },
      "execution_count": null,
      "outputs": []
    },
    {
      "cell_type": "code",
      "source": [],
      "metadata": {
        "id": "PKD9Z24zU5ld"
      },
      "execution_count": null,
      "outputs": []
    },
    {
      "cell_type": "code",
      "source": [],
      "metadata": {
        "id": "l_4kR9DcU5hG"
      },
      "execution_count": null,
      "outputs": []
    },
    {
      "cell_type": "code",
      "source": [],
      "metadata": {
        "id": "gBnF5lRkU5e9"
      },
      "execution_count": null,
      "outputs": []
    },
    {
      "cell_type": "code",
      "source": [],
      "metadata": {
        "id": "07oVS2uBU5ct"
      },
      "execution_count": null,
      "outputs": []
    },
    {
      "cell_type": "code",
      "source": [],
      "metadata": {
        "id": "RMZ0RchUU5af"
      },
      "execution_count": null,
      "outputs": []
    },
    {
      "cell_type": "code",
      "source": [],
      "metadata": {
        "id": "gftp9NMNU5YN"
      },
      "execution_count": null,
      "outputs": []
    },
    {
      "cell_type": "code",
      "source": [],
      "metadata": {
        "id": "RTwvx5ajU5Vt"
      },
      "execution_count": null,
      "outputs": []
    },
    {
      "cell_type": "code",
      "source": [],
      "metadata": {
        "id": "8_xbMyzdU5S9"
      },
      "execution_count": null,
      "outputs": []
    },
    {
      "cell_type": "code",
      "source": [],
      "metadata": {
        "id": "gXbqj9mUU5Ql"
      },
      "execution_count": null,
      "outputs": []
    },
    {
      "cell_type": "code",
      "source": [],
      "metadata": {
        "id": "EaAZl3R-U5OV"
      },
      "execution_count": null,
      "outputs": []
    },
    {
      "cell_type": "markdown",
      "source": [
        "# Matrix Inverses\n",
        "\n",
        "* In Exercise 5 of Lecture 3.pdf we are asked to check our calculations for the matrix\n",
        "\\\\[M=\\begin{bmatrix} -3 & 4 \\\\ 2 & 1\\end{bmatrix}\\\\]\n",
        "\n",
        "* To do this we will use the __M2()__ command to define $M$\n",
        "\n",
        "* Next we will use the __inv()__ command to find $M^{-1}$\n",
        "\n",
        "* Then we use __.dot()__ to calculate $M^{-1}.M$ and $M.M^{-1}$"
      ],
      "metadata": {
        "id": "F6NuY-cgU6Z9"
      }
    },
    {
      "cell_type": "code",
      "source": [
        "M=M2(-3,4,2,1)\n",
        "M"
      ],
      "metadata": {
        "colab": {
          "base_uri": "https://localhost:8080/"
        },
        "id": "8g1TVzRKYLoW",
        "outputId": "acacfcf4-132e-4ff8-dedf-aceaea3a67c0"
      },
      "execution_count": null,
      "outputs": [
        {
          "output_type": "execute_result",
          "data": {
            "text/plain": [
              "array([[-3,  4],\n",
              "       [ 2,  1]])"
            ]
          },
          "metadata": {},
          "execution_count": 42
        }
      ]
    },
    {
      "cell_type": "code",
      "source": [
        "iM=inv(M)\n",
        "iM"
      ],
      "metadata": {
        "colab": {
          "base_uri": "https://localhost:8080/"
        },
        "id": "z-piRZRSYR3G",
        "outputId": "3075a246-7067-4bbf-fa9d-d283183e1661"
      },
      "execution_count": null,
      "outputs": [
        {
          "output_type": "execute_result",
          "data": {
            "text/plain": [
              "array([[-0.09090909,  0.36363636],\n",
              "       [ 0.18181818,  0.27272727]])"
            ]
          },
          "metadata": {},
          "execution_count": 43
        }
      ]
    },
    {
      "cell_type": "markdown",
      "source": [
        "* It is not clear how these numbers are obtained, but if we multiply __iM__ by __det(M)__ we will see the usual rule in action:"
      ],
      "metadata": {
        "id": "i0ecBXDfYb69"
      }
    },
    {
      "cell_type": "code",
      "source": [
        "det(M)*iM"
      ],
      "metadata": {
        "colab": {
          "base_uri": "https://localhost:8080/"
        },
        "id": "QIF97aGaYWHl",
        "outputId": "35f4b8a9-1650-4b8c-ee6e-ca4cb67cc4f7"
      },
      "execution_count": null,
      "outputs": [
        {
          "output_type": "execute_result",
          "data": {
            "text/plain": [
              "array([[ 1., -4.],\n",
              "       [-2., -3.]])"
            ]
          },
          "metadata": {},
          "execution_count": 45
        }
      ]
    },
    {
      "cell_type": "markdown",
      "source": [
        "* Now we use __.dot()__ to calcualte $M.M^{-1}$ and $M^{-1}.M$"
      ],
      "metadata": {
        "id": "DbeiuOD5Y0Fd"
      }
    },
    {
      "cell_type": "code",
      "source": [
        "M.dot(iM)"
      ],
      "metadata": {
        "colab": {
          "base_uri": "https://localhost:8080/"
        },
        "id": "mJDrCXsbYuml",
        "outputId": "8deb2d65-52f3-4ee4-8278-b2d7b5ca0de8"
      },
      "execution_count": null,
      "outputs": [
        {
          "output_type": "execute_result",
          "data": {
            "text/plain": [
              "array([[1.00000000e+00, 2.22044605e-16],\n",
              "       [2.77555756e-17, 1.00000000e+00]])"
            ]
          },
          "metadata": {},
          "execution_count": 46
        }
      ]
    },
    {
      "cell_type": "code",
      "source": [
        "iM.dot(M)"
      ],
      "metadata": {
        "colab": {
          "base_uri": "https://localhost:8080/"
        },
        "id": "0O3D17C-Y_zF",
        "outputId": "dce68f48-f4a8-4d95-989d-1eab5422f242"
      },
      "execution_count": null,
      "outputs": [
        {
          "output_type": "execute_result",
          "data": {
            "text/plain": [
              "array([[1.00000000e+00, 5.55111512e-17],\n",
              "       [1.11022302e-16, 1.00000000e+00]])"
            ]
          },
          "metadata": {},
          "execution_count": 47
        }
      ]
    },
    {
      "cell_type": "markdown",
      "source": [
        "* We can see we are not getting the identiy matrix exactly, this is becuase of the rounding errors introduced when python converts the fractions to binary.\n",
        "\n",
        "* To get back the correct answer, we will use __np.roun()__ to round our answers to __10 decimal places__, which should give back the answers we expect."
      ],
      "metadata": {
        "id": "AZLPh2BdZGhN"
      }
    },
    {
      "cell_type": "code",
      "source": [
        "np.round(M.dot(iM),10)"
      ],
      "metadata": {
        "colab": {
          "base_uri": "https://localhost:8080/"
        },
        "id": "R0I3ZDBnZFZV",
        "outputId": "86592b0a-a135-470d-d83a-3290803fe6c5"
      },
      "execution_count": null,
      "outputs": [
        {
          "output_type": "execute_result",
          "data": {
            "text/plain": [
              "array([[1., 0.],\n",
              "       [0., 1.]])"
            ]
          },
          "metadata": {},
          "execution_count": 48
        }
      ]
    },
    {
      "cell_type": "code",
      "source": [
        "np.round(iM.dot(M),10)"
      ],
      "metadata": {
        "colab": {
          "base_uri": "https://localhost:8080/"
        },
        "id": "lV-NxwHTZiml",
        "outputId": "549340cf-6596-4829-f4ff-a3f1edfa75bd"
      },
      "execution_count": null,
      "outputs": [
        {
          "output_type": "execute_result",
          "data": {
            "text/plain": [
              "array([[1., 0.],\n",
              "       [0., 1.]])"
            ]
          },
          "metadata": {},
          "execution_count": 49
        }
      ]
    },
    {
      "cell_type": "markdown",
      "source": [
        "* We see everything working as expected."
      ],
      "metadata": {
        "id": "DMB60PR8ZmbV"
      }
    },
    {
      "cell_type": "code",
      "source": [],
      "metadata": {
        "id": "TPNQiBy9ZlCG"
      },
      "execution_count": null,
      "outputs": []
    },
    {
      "cell_type": "markdown",
      "source": [
        "# Exercise 3\n",
        "\n",
        "* Use the same method to check your calculations from Exercise 5 of Lecture 3.pdf"
      ],
      "metadata": {
        "id": "R62mJw7FZucl"
      }
    },
    {
      "cell_type": "code",
      "source": [],
      "metadata": {
        "id": "_Wam2Eu1Z3TI"
      },
      "execution_count": null,
      "outputs": []
    },
    {
      "cell_type": "code",
      "source": [],
      "metadata": {
        "id": "eHLdPQ_uZ3QU"
      },
      "execution_count": null,
      "outputs": []
    },
    {
      "cell_type": "code",
      "source": [],
      "metadata": {
        "id": "qvKtwf-GZ3OF"
      },
      "execution_count": null,
      "outputs": []
    },
    {
      "cell_type": "code",
      "source": [],
      "metadata": {
        "id": "1RFCUsMMZ3Lt"
      },
      "execution_count": null,
      "outputs": []
    },
    {
      "cell_type": "code",
      "source": [],
      "metadata": {
        "id": "9sP-fQvnZ3Je"
      },
      "execution_count": null,
      "outputs": []
    },
    {
      "cell_type": "code",
      "source": [],
      "metadata": {
        "id": "SJNgTmHhZ3HN"
      },
      "execution_count": null,
      "outputs": []
    },
    {
      "cell_type": "code",
      "source": [],
      "metadata": {
        "id": "3rq2WnVVZ3E9"
      },
      "execution_count": null,
      "outputs": []
    },
    {
      "cell_type": "code",
      "source": [],
      "metadata": {
        "id": "7Mf69CZpZ3Cu"
      },
      "execution_count": null,
      "outputs": []
    },
    {
      "cell_type": "code",
      "source": [],
      "metadata": {
        "id": "foy4A3_LZ3AY"
      },
      "execution_count": null,
      "outputs": []
    },
    {
      "cell_type": "code",
      "source": [],
      "metadata": {
        "id": "86cVX_0pZ2BF"
      },
      "execution_count": null,
      "outputs": []
    },
    {
      "cell_type": "markdown",
      "source": [
        "# Linear Functions\n",
        "\n",
        "## Definition of Linear Functions\n",
        "\n",
        "* A linear function $f(x)$ is __linear__ in its __input variable__ $x$\n",
        "\n",
        "\n",
        "\n",
        "* This means the input can only be __multiplied by a constant__ number or __added to a constant__ or both\n",
        "\n",
        "\n",
        "## General Linear Function\n",
        "\n",
        "* The most general way to write a __linear function__ $f(x)$ with input $x$ is:\n",
        "$$\n",
        "f(x) = ax + b,\n",
        "$$\n",
        "where the numbers $a$ and $b$ are both __consant__\n",
        "\n",
        "\n",
        "---\n",
        "---\n",
        "\n",
        "## Defining a Linear Function in Python\n",
        "\n",
        "* It is very straight forward to define a linear function in python usin the __def()__ and __return__ commands\n",
        "\n",
        "\n",
        "### Example 1\n",
        "\n",
        "* Define the linear function\n",
        "$$\n",
        "f(x) = 0.7x + 5.3\n",
        "$$\n",
        "in Python\n",
        "\n",
        "\n",
        "* Evaluate the output $f(x)$ for the inputs\n",
        "$$\n",
        "x=-4.3\\quad x=-0.8\\quad x= 1.4 \\quad x=6.8\n",
        "$$\n",
        "\n",
        "* Plot input-output pairs $(x , f(x))$ using the usual plot command"
      ],
      "metadata": {
        "id": "-tkLvBlxO9mQ"
      }
    },
    {
      "cell_type": "markdown",
      "source": [
        "### Solution\n",
        "---\n",
        "\n",
        "* The function is defined in Python as follows:"
      ],
      "metadata": {
        "id": "M9euuScpQqsW"
      }
    },
    {
      "cell_type": "code",
      "source": [
        "def f(x):\n",
        "  return 0.7*x + 5.3"
      ],
      "metadata": {
        "id": "ECnmE45LPc8I"
      },
      "execution_count": 16,
      "outputs": []
    },
    {
      "cell_type": "markdown",
      "source": [
        "__<u>IMPORTANT</u>:__ Note that we __MUST__ use __*__ to indicate multiplication in Python"
      ],
      "metadata": {
        "id": "PGJY47sKRGdG"
      }
    },
    {
      "cell_type": "markdown",
      "source": [
        "* The __input-output__ pairs are given by"
      ],
      "metadata": {
        "id": "LWXwurT1Rn1V"
      }
    },
    {
      "cell_type": "code",
      "source": [
        "-4.3 , f(-4.3)"
      ],
      "metadata": {
        "id": "R21aeCb3RQzW",
        "outputId": "de2a21e0-97c8-4270-ae4a-8a4d4ae4d172",
        "colab": {
          "base_uri": "https://localhost:8080/"
        }
      },
      "execution_count": 18,
      "outputs": [
        {
          "output_type": "execute_result",
          "data": {
            "text/plain": [
              "(-4.3, 2.29)"
            ]
          },
          "metadata": {},
          "execution_count": 18
        }
      ]
    },
    {
      "cell_type": "code",
      "source": [
        "-0.8 , f(-0.8)"
      ],
      "metadata": {
        "id": "yGsFkQDxRyUn",
        "outputId": "e181e06c-6097-4437-c858-a10c5ab6644c",
        "colab": {
          "base_uri": "https://localhost:8080/"
        }
      },
      "execution_count": 7,
      "outputs": [
        {
          "output_type": "execute_result",
          "data": {
            "text/plain": [
              "(-0.8, 4.74)"
            ]
          },
          "metadata": {},
          "execution_count": 7
        }
      ]
    },
    {
      "cell_type": "code",
      "source": [
        "1.4 , f(1.4)"
      ],
      "metadata": {
        "id": "RNY95RzuR8Wm",
        "outputId": "6848efa8-9cc8-49cd-b7dc-22681369146f",
        "colab": {
          "base_uri": "https://localhost:8080/"
        }
      },
      "execution_count": 8,
      "outputs": [
        {
          "output_type": "execute_result",
          "data": {
            "text/plain": [
              "(1.4, 6.279999999999999)"
            ]
          },
          "metadata": {},
          "execution_count": 8
        }
      ]
    },
    {
      "cell_type": "code",
      "source": [
        "6.8 , f(6.8)"
      ],
      "metadata": {
        "id": "bEvAaDHWR-a2",
        "outputId": "7cbfbd43-983d-4517-ae58-bb8fb0046055",
        "colab": {
          "base_uri": "https://localhost:8080/"
        }
      },
      "execution_count": 9,
      "outputs": [
        {
          "output_type": "execute_result",
          "data": {
            "text/plain": [
              "(6.8, 10.059999999999999)"
            ]
          },
          "metadata": {},
          "execution_count": 9
        }
      ]
    },
    {
      "cell_type": "code",
      "source": [],
      "metadata": {
        "id": "Lwtw1b_pSEOo"
      },
      "execution_count": null,
      "outputs": []
    },
    {
      "cell_type": "markdown",
      "source": [
        "### __<u>Alternative Method</u>__\n",
        "\n",
        "* We can calculte all these inputs and outputs at once if we put all the input values in a __np.array([])__\n",
        "\n",
        "* We can call this array any name we want, we will call it __IN__ to make it clear:"
      ],
      "metadata": {
        "id": "SSzLJiQHSGuG"
      }
    },
    {
      "cell_type": "code",
      "source": [
        "IN = np.array( [-4.3 , -0.8 , 1.4 , 6.8] )\n",
        "IN"
      ],
      "metadata": {
        "id": "j2GEtgoHSk52",
        "outputId": "c3137109-60d2-4d8e-85b1-0f9b464fbe0c",
        "colab": {
          "base_uri": "https://localhost:8080/"
        }
      },
      "execution_count": 19,
      "outputs": [
        {
          "output_type": "execute_result",
          "data": {
            "text/plain": [
              "array([-4.3, -0.8,  1.4,  6.8])"
            ]
          },
          "metadata": {},
          "execution_count": 19
        }
      ]
    },
    {
      "cell_type": "markdown",
      "source": [
        "* The outupts are now find by using __IN__ in the function __f(x)__, we will call this array of outputs __OUT__ for clarity"
      ],
      "metadata": {
        "id": "kkYF1QwVS1sm"
      }
    },
    {
      "cell_type": "code",
      "source": [
        "OUT = f(IN)"
      ],
      "metadata": {
        "id": "OIw7OKiASvBH"
      },
      "execution_count": 20,
      "outputs": []
    },
    {
      "cell_type": "code",
      "source": [
        "OUT"
      ],
      "metadata": {
        "id": "UNI4G1PvTCgW",
        "outputId": "1cc4c6a6-20c2-43b6-c0a1-9699a2ef5cbd",
        "colab": {
          "base_uri": "https://localhost:8080/"
        }
      },
      "execution_count": 21,
      "outputs": [
        {
          "output_type": "execute_result",
          "data": {
            "text/plain": [
              "array([ 2.29,  4.74,  6.28, 10.06])"
            ]
          },
          "metadata": {},
          "execution_count": 21
        }
      ]
    },
    {
      "cell_type": "code",
      "source": [],
      "metadata": {
        "id": "HULq0dOkTDLW"
      },
      "execution_count": 21,
      "outputs": []
    },
    {
      "cell_type": "markdown",
      "source": [
        "### Plotting the input-output pairs\n",
        "\n",
        "* To plot the input-output values we use the __plt.plot()__ command  "
      ],
      "metadata": {
        "id": "rePqzjysTNLi"
      }
    },
    {
      "cell_type": "code",
      "source": [
        "plt.figure(figsize=(6,6))\n",
        "\n",
        "plt.plot(IN, f(IN), 'or')\n",
        "\n",
        "plt.xlabel('x-axis')\n",
        "plt.ylabel('y-axis')\n"
      ],
      "metadata": {
        "id": "x536FrXXTedm",
        "outputId": "c4aa37c9-c03d-4738-f056-4c36bd1f9857",
        "colab": {
          "base_uri": "https://localhost:8080/",
          "height": 560
        }
      },
      "execution_count": 22,
      "outputs": [
        {
          "output_type": "execute_result",
          "data": {
            "text/plain": [
              "Text(0, 0.5, 'y-axis')"
            ]
          },
          "metadata": {},
          "execution_count": 22
        },
        {
          "output_type": "display_data",
          "data": {
            "text/plain": [
              "<Figure size 600x600 with 1 Axes>"
            ],
            "image/png": "[encoded data removed]"
          },
          "metadata": {}
        }
      ]
    },
    {
      "cell_type": "code",
      "source": [],
      "metadata": {
        "id": "tRBgtxLHTtF3"
      },
      "execution_count": null,
      "outputs": []
    },
    {
      "cell_type": "markdown",
      "source": [
        "# Exercise\n",
        "\n",
        "* Use python to define the linear function\n",
        "$$\n",
        "l(x) = -2.4x + 12.3\n",
        "$$\n",
        "\n",
        "\n",
        "* Create an __np.array([])__ to store the input values\n",
        "$$\n",
        "x=-19.4\\quad x=-15.4\\quad x=-5.6\\quad x=-1.4\\quad x=2.3\\quad x=7.6\\quad x=9.8 \\quad x=16.7\n",
        "$$\n",
        "\n",
        "\n",
        "* Use the function defined above to evaluate the input-output pairs __$(x,l(x))$__ along this array\n",
        "\n",
        "\n",
        "* Plot the input-output pairs __$(x,l(x))$__ using __plt.plot()__"
      ],
      "metadata": {
        "id": "RKLcj3AiUB0v"
      }
    },
    {
      "cell_type": "code",
      "source": [],
      "metadata": {
        "id": "-jDFySVqUMJ3"
      },
      "execution_count": null,
      "outputs": []
    },
    {
      "cell_type": "code",
      "source": [],
      "metadata": {
        "id": "ISfuGn7rVEAH"
      },
      "execution_count": null,
      "outputs": []
    },
    {
      "cell_type": "code",
      "source": [],
      "metadata": {
        "id": "XVjZmezIVD9v"
      },
      "execution_count": null,
      "outputs": []
    },
    {
      "cell_type": "code",
      "source": [],
      "metadata": {
        "id": "y4NxVhTfVD7e"
      },
      "execution_count": null,
      "outputs": []
    },
    {
      "cell_type": "code",
      "source": [],
      "metadata": {
        "id": "_bkRj8xMVD5X"
      },
      "execution_count": null,
      "outputs": []
    },
    {
      "cell_type": "code",
      "source": [],
      "metadata": {
        "id": "JAIZ3-emVD23"
      },
      "execution_count": null,
      "outputs": []
    },
    {
      "cell_type": "code",
      "source": [],
      "metadata": {
        "id": "kO4nSwxcVD0i"
      },
      "execution_count": null,
      "outputs": []
    },
    {
      "cell_type": "markdown",
      "source": [
        "# Graphing Linear Functions\n",
        "\n",
        "* We can now easily extend what we have done so far to plot the graph of a linear function\n",
        "\n",
        "* To do this we use the function __np.linspace(a,b,n)__ to  crease a list of numbers as follows:\n",
        "\n",
        "  * The list starts at __a__\n",
        "  * The list ends at __b__\n",
        "  * The list has __n__ entries\n",
        "\n",
        "\n",
        "---"
      ],
      "metadata": {
        "id": "36hfcmJGVEg_"
      }
    },
    {
      "cell_type": "markdown",
      "source": [
        "## Example\n",
        "\n",
        "* Plot the graph of the linear function\n",
        "$$\n",
        "g(x) = 4.1x - 5.8\n",
        "$$\n",
        "over the interval starting at __x=-3.1__ and ending at __x=4.5__ with __n=250__ points"
      ],
      "metadata": {
        "id": "ekdH4gHnVoTz"
      }
    },
    {
      "cell_type": "markdown",
      "source": [
        "### Solution\n",
        "\n",
        "* We define the linear function __g(x)__ and the __linspace()__ in the next two cells:"
      ],
      "metadata": {
        "id": "nFrcUqw8WACP"
      }
    },
    {
      "cell_type": "code",
      "source": [
        "def g(x):\n",
        "  return 4.1*x - 5.8"
      ],
      "metadata": {
        "id": "xWrPJg_9VjPn"
      },
      "execution_count": 23,
      "outputs": []
    },
    {
      "cell_type": "code",
      "source": [
        "X=np.linspace(-3.1 , 4.5 , 250)\n",
        "X"
      ],
      "metadata": {
        "id": "XQXL9FhjWOLY",
        "outputId": "3b190403-8abe-4b2f-8f75-ca9fe845bc31",
        "colab": {
          "base_uri": "https://localhost:8080/"
        }
      },
      "execution_count": 24,
      "outputs": [
        {
          "output_type": "execute_result",
          "data": {
            "text/plain": [
              "array([-3.1       , -3.06947791, -3.03895582, -3.00843373, -2.97791165,\n",
              "       -2.94738956, -2.91686747, -2.88634538, -2.85582329, -2.8253012 ,\n",
              "       -2.79477912, -2.76425703, -2.73373494, -2.70321285, -2.67269076,\n",
              "       -2.64216867, -2.61164659, -2.5811245 , -2.55060241, -2.52008032,\n",
              "       -2.48955823, -2.45903614, -2.42851406, -2.39799197, -2.36746988,\n",
              "       -2.33694779, -2.3064257 , -2.27590361, -2.24538153, -2.21485944,\n",
              "       -2.18433735, -2.15381526, -2.12329317, -2.09277108, -2.062249  ,\n",
              "       -2.03172691, -2.00120482, -1.97068273, -1.94016064, -1.90963855,\n",
              "       -1.87911647, -1.84859438, -1.81807229, -1.7875502 , -1.75702811,\n",
              "       -1.72650602, -1.69598394, -1.66546185, -1.63493976, -1.60441767,\n",
              "       -1.57389558, -1.54337349, -1.51285141, -1.48232932, -1.45180723,\n",
              "       -1.42128514, -1.39076305, -1.36024096, -1.32971888, -1.29919679,\n",
              "       -1.2686747 , -1.23815261, -1.20763052, -1.17710843, -1.14658635,\n",
              "       -1.11606426, -1.08554217, -1.05502008, -1.02449799, -0.9939759 ,\n",
              "       -0.96345382, -0.93293173, -0.90240964, -0.87188755, -0.84136546,\n",
              "       -0.81084337, -0.78032129, -0.7497992 , -0.71927711, -0.68875502,\n",
              "       -0.65823293, -0.62771084, -0.59718876, -0.56666667, -0.53614458,\n",
              "       -0.50562249, -0.4751004 , -0.44457831, -0.41405622, -0.38353414,\n",
              "       -0.35301205, -0.32248996, -0.29196787, -0.26144578, -0.23092369,\n",
              "       -0.20040161, -0.16987952, -0.13935743, -0.10883534, -0.07831325,\n",
              "       -0.04779116, -0.01726908,  0.01325301,  0.0437751 ,  0.07429719,\n",
              "        0.10481928,  0.13534137,  0.16586345,  0.19638554,  0.22690763,\n",
              "        0.25742972,  0.28795181,  0.3184739 ,  0.34899598,  0.37951807,\n",
              "        0.41004016,  0.44056225,  0.47108434,  0.50160643,  0.53212851,\n",
              "        0.5626506 ,  0.59317269,  0.62369478,  0.65421687,  0.68473896,\n",
              "        0.71526104,  0.74578313,  0.77630522,  0.80682731,  0.8373494 ,\n",
              "        0.86787149,  0.89839357,  0.92891566,  0.95943775,  0.98995984,\n",
              "        1.02048193,  1.05100402,  1.0815261 ,  1.11204819,  1.14257028,\n",
              "        1.17309237,  1.20361446,  1.23413655,  1.26465863,  1.29518072,\n",
              "        1.32570281,  1.3562249 ,  1.38674699,  1.41726908,  1.44779116,\n",
              "        1.47831325,  1.50883534,  1.53935743,  1.56987952,  1.60040161,\n",
              "        1.63092369,  1.66144578,  1.69196787,  1.72248996,  1.75301205,\n",
              "        1.78353414,  1.81405622,  1.84457831,  1.8751004 ,  1.90562249,\n",
              "        1.93614458,  1.96666667,  1.99718876,  2.02771084,  2.05823293,\n",
              "        2.08875502,  2.11927711,  2.1497992 ,  2.18032129,  2.21084337,\n",
              "        2.24136546,  2.27188755,  2.30240964,  2.33293173,  2.36345382,\n",
              "        2.3939759 ,  2.42449799,  2.45502008,  2.48554217,  2.51606426,\n",
              "        2.54658635,  2.57710843,  2.60763052,  2.63815261,  2.6686747 ,\n",
              "        2.69919679,  2.72971888,  2.76024096,  2.79076305,  2.82128514,\n",
              "        2.85180723,  2.88232932,  2.91285141,  2.94337349,  2.97389558,\n",
              "        3.00441767,  3.03493976,  3.06546185,  3.09598394,  3.12650602,\n",
              "        3.15702811,  3.1875502 ,  3.21807229,  3.24859438,  3.27911647,\n",
              "        3.30963855,  3.34016064,  3.37068273,  3.40120482,  3.43172691,\n",
              "        3.462249  ,  3.49277108,  3.52329317,  3.55381526,  3.58433735,\n",
              "        3.61485944,  3.64538153,  3.67590361,  3.7064257 ,  3.73694779,\n",
              "        3.76746988,  3.79799197,  3.82851406,  3.85903614,  3.88955823,\n",
              "        3.92008032,  3.95060241,  3.9811245 ,  4.01164659,  4.04216867,\n",
              "        4.07269076,  4.10321285,  4.13373494,  4.16425703,  4.19477912,\n",
              "        4.2253012 ,  4.25582329,  4.28634538,  4.31686747,  4.34738956,\n",
              "        4.37791165,  4.40843373,  4.43895582,  4.46947791,  4.5       ])"
            ]
          },
          "metadata": {},
          "execution_count": 24
        }
      ]
    },
    {
      "cell_type": "markdown",
      "source": [
        "* If we want we can calucate the 250 outputs we get from these inputs using __g(x)__ as usual:"
      ],
      "metadata": {
        "id": "QeXZoaO3WX2w"
      }
    },
    {
      "cell_type": "code",
      "source": [
        "g(X)"
      ],
      "metadata": {
        "id": "QLxsgPSlWVd4",
        "outputId": "aaa42813-5281-4f9f-f4a1-dda43975e8d0",
        "colab": {
          "base_uri": "https://localhost:8080/"
        }
      },
      "execution_count": 25,
      "outputs": [
        {
          "output_type": "execute_result",
          "data": {
            "text/plain": [
              "array([-1.85100000e+01, -1.83848594e+01, -1.82597189e+01, -1.81345783e+01,\n",
              "       -1.80094378e+01, -1.78842972e+01, -1.77591566e+01, -1.76340161e+01,\n",
              "       -1.75088755e+01, -1.73837349e+01, -1.72585944e+01, -1.71334538e+01,\n",
              "       -1.70083133e+01, -1.68831727e+01, -1.67580321e+01, -1.66328916e+01,\n",
              "       -1.65077510e+01, -1.63826104e+01, -1.62574699e+01, -1.61323293e+01,\n",
              "       -1.60071888e+01, -1.58820482e+01, -1.57569076e+01, -1.56317671e+01,\n",
              "       -1.55066265e+01, -1.53814859e+01, -1.52563454e+01, -1.51312048e+01,\n",
              "       -1.50060643e+01, -1.48809237e+01, -1.47557831e+01, -1.46306426e+01,\n",
              "       -1.45055020e+01, -1.43803614e+01, -1.42552209e+01, -1.41300803e+01,\n",
              "       -1.40049398e+01, -1.38797992e+01, -1.37546586e+01, -1.36295181e+01,\n",
              "       -1.35043775e+01, -1.33792369e+01, -1.32540964e+01, -1.31289558e+01,\n",
              "       -1.30038153e+01, -1.28786747e+01, -1.27535341e+01, -1.26283936e+01,\n",
              "       -1.25032530e+01, -1.23781124e+01, -1.22529719e+01, -1.21278313e+01,\n",
              "       -1.20026908e+01, -1.18775502e+01, -1.17524096e+01, -1.16272691e+01,\n",
              "       -1.15021285e+01, -1.13769880e+01, -1.12518474e+01, -1.11267068e+01,\n",
              "       -1.10015663e+01, -1.08764257e+01, -1.07512851e+01, -1.06261446e+01,\n",
              "       -1.05010040e+01, -1.03758635e+01, -1.02507229e+01, -1.01255823e+01,\n",
              "       -1.00004418e+01, -9.87530120e+00, -9.75016064e+00, -9.62502008e+00,\n",
              "       -9.49987952e+00, -9.37473896e+00, -9.24959839e+00, -9.12445783e+00,\n",
              "       -8.99931727e+00, -8.87417671e+00, -8.74903614e+00, -8.62389558e+00,\n",
              "       -8.49875502e+00, -8.37361446e+00, -8.24847390e+00, -8.12333333e+00,\n",
              "       -7.99819277e+00, -7.87305221e+00, -7.74791165e+00, -7.62277108e+00,\n",
              "       -7.49763052e+00, -7.37248996e+00, -7.24734940e+00, -7.12220884e+00,\n",
              "       -6.99706827e+00, -6.87192771e+00, -6.74678715e+00, -6.62164659e+00,\n",
              "       -6.49650602e+00, -6.37136546e+00, -6.24622490e+00, -6.12108434e+00,\n",
              "       -5.99594378e+00, -5.87080321e+00, -5.74566265e+00, -5.62052209e+00,\n",
              "       -5.49538153e+00, -5.37024096e+00, -5.24510040e+00, -5.11995984e+00,\n",
              "       -4.99481928e+00, -4.86967871e+00, -4.74453815e+00, -4.61939759e+00,\n",
              "       -4.49425703e+00, -4.36911647e+00, -4.24397590e+00, -4.11883534e+00,\n",
              "       -3.99369478e+00, -3.86855422e+00, -3.74341365e+00, -3.61827309e+00,\n",
              "       -3.49313253e+00, -3.36799197e+00, -3.24285141e+00, -3.11771084e+00,\n",
              "       -2.99257028e+00, -2.86742972e+00, -2.74228916e+00, -2.61714859e+00,\n",
              "       -2.49200803e+00, -2.36686747e+00, -2.24172691e+00, -2.11658635e+00,\n",
              "       -1.99144578e+00, -1.86630522e+00, -1.74116466e+00, -1.61602410e+00,\n",
              "       -1.49088353e+00, -1.36574297e+00, -1.24060241e+00, -1.11546185e+00,\n",
              "       -9.90321285e-01, -8.65180723e-01, -7.40040161e-01, -6.14899598e-01,\n",
              "       -4.89759036e-01, -3.64618474e-01, -2.39477912e-01, -1.14337349e-01,\n",
              "        1.08032129e-02,  1.35943775e-01,  2.61084337e-01,  3.86224900e-01,\n",
              "        5.11365462e-01,  6.36506024e-01,  7.61646586e-01,  8.86787149e-01,\n",
              "        1.01192771e+00,  1.13706827e+00,  1.26220884e+00,  1.38734940e+00,\n",
              "        1.51248996e+00,  1.63763052e+00,  1.76277108e+00,  1.88791165e+00,\n",
              "        2.01305221e+00,  2.13819277e+00,  2.26333333e+00,  2.38847390e+00,\n",
              "        2.51361446e+00,  2.63875502e+00,  2.76389558e+00,  2.88903614e+00,\n",
              "        3.01417671e+00,  3.13931727e+00,  3.26445783e+00,  3.38959839e+00,\n",
              "        3.51473896e+00,  3.63987952e+00,  3.76502008e+00,  3.89016064e+00,\n",
              "        4.01530120e+00,  4.14044177e+00,  4.26558233e+00,  4.39072289e+00,\n",
              "        4.51586345e+00,  4.64100402e+00,  4.76614458e+00,  4.89128514e+00,\n",
              "        5.01642570e+00,  5.14156627e+00,  5.26670683e+00,  5.39184739e+00,\n",
              "        5.51698795e+00,  5.64212851e+00,  5.76726908e+00,  5.89240964e+00,\n",
              "        6.01755020e+00,  6.14269076e+00,  6.26783133e+00,  6.39297189e+00,\n",
              "        6.51811245e+00,  6.64325301e+00,  6.76839357e+00,  6.89353414e+00,\n",
              "        7.01867470e+00,  7.14381526e+00,  7.26895582e+00,  7.39409639e+00,\n",
              "        7.51923695e+00,  7.64437751e+00,  7.76951807e+00,  7.89465863e+00,\n",
              "        8.01979920e+00,  8.14493976e+00,  8.27008032e+00,  8.39522088e+00,\n",
              "        8.52036145e+00,  8.64550201e+00,  8.77064257e+00,  8.89578313e+00,\n",
              "        9.02092369e+00,  9.14606426e+00,  9.27120482e+00,  9.39634538e+00,\n",
              "        9.52148594e+00,  9.64662651e+00,  9.77176707e+00,  9.89690763e+00,\n",
              "        1.00220482e+01,  1.01471888e+01,  1.02723293e+01,  1.03974699e+01,\n",
              "        1.05226104e+01,  1.06477510e+01,  1.07728916e+01,  1.08980321e+01,\n",
              "        1.10231727e+01,  1.11483133e+01,  1.12734538e+01,  1.13985944e+01,\n",
              "        1.15237349e+01,  1.16488755e+01,  1.17740161e+01,  1.18991566e+01,\n",
              "        1.20242972e+01,  1.21494378e+01,  1.22745783e+01,  1.23997189e+01,\n",
              "        1.25248594e+01,  1.26500000e+01])"
            ]
          },
          "metadata": {},
          "execution_count": 25
        }
      ]
    },
    {
      "cell_type": "markdown",
      "source": [
        "* The __PLOT__ of __(X , g(X))__ is now given by"
      ],
      "metadata": {
        "id": "fnObHNbTWljf"
      }
    },
    {
      "cell_type": "code",
      "source": [
        "plt.figure(figsize=(4,6))\n",
        "\n",
        "plt.plot(X, g(X), color='blue')\n",
        "\n",
        "plt.xlabel('x-axis')\n",
        "plt.ylabel('y-axis')"
      ],
      "metadata": {
        "id": "FIqJl1WxWje4",
        "outputId": "7ee3e3ba-7110-4839-e829-07f65867bb18",
        "colab": {
          "base_uri": "https://localhost:8080/",
          "height": 560
        }
      },
      "execution_count": 28,
      "outputs": [
        {
          "output_type": "execute_result",
          "data": {
            "text/plain": [
              "Text(0, 0.5, 'y-axis')"
            ]
          },
          "metadata": {},
          "execution_count": 28
        },
        {
          "output_type": "display_data",
          "data": {
            "text/plain": [
              "<Figure size 400x600 with 1 Axes>"
            ],
            "image/png": "[encoded data removed]"
          },
          "metadata": {}
        }
      ]
    },
    {
      "cell_type": "code",
      "source": [],
      "metadata": {
        "id": "uqdoF-P4Wygo"
      },
      "execution_count": null,
      "outputs": []
    },
    {
      "cell_type": "markdown",
      "source": [
        "## Exercise\n",
        "\n",
        "* Plot the graph of the linear function\n",
        "$$\n",
        "k(x) = -1.3x - 1.8\n",
        "$$\n",
        "over the interval starting at __x=-10.3__ and ending at __x=12.5__ with __n=500__ points"
      ],
      "metadata": {
        "id": "SBNcH7ltW8qY"
      }
    },
    {
      "cell_type": "code",
      "source": [],
      "metadata": {
        "id": "_K2Q02f9XFCI"
      },
      "execution_count": 28,
      "outputs": []
    },
    {
      "cell_type": "code",
      "source": [],
      "metadata": {
        "id": "iOUgYvgdXKGH"
      },
      "execution_count": null,
      "outputs": []
    },
    {
      "cell_type": "code",
      "source": [],
      "metadata": {
        "id": "rZCvoFV3XKD4"
      },
      "execution_count": null,
      "outputs": []
    },
    {
      "cell_type": "code",
      "source": [],
      "metadata": {
        "id": "MZ-lm9eZXKBt"
      },
      "execution_count": null,
      "outputs": []
    },
    {
      "cell_type": "code",
      "source": [],
      "metadata": {
        "id": "lmtWBcGOXJ_V"
      },
      "execution_count": null,
      "outputs": []
    },
    {
      "cell_type": "code",
      "source": [],
      "metadata": {
        "id": "FBdhHGaCXJ8w"
      },
      "execution_count": null,
      "outputs": []
    },
    {
      "cell_type": "code",
      "source": [],
      "metadata": {
        "id": "RuE2IGK5XJ6X"
      },
      "execution_count": null,
      "outputs": []
    },
    {
      "cell_type": "code",
      "source": [],
      "metadata": {
        "id": "x941S9hYXJ3_"
      },
      "execution_count": null,
      "outputs": []
    },
    {
      "cell_type": "code",
      "source": [],
      "metadata": {
        "id": "u4LcnPQsXJ1Z"
      },
      "execution_count": null,
      "outputs": []
    }
  ],
  "metadata": {
    "anaconda-cloud": {},
    "colab": {
      "provenance": [],
      "include_colab_link": true
    },
    "kernelspec": {
      "display_name": "Python 3 (ipykernel)",
      "language": "python",
      "name": "python3"
    },
    "language_info": {
      "codemirror_mode": {
        "name": "ipython",
        "version": 3
      },
      "file_extension": ".py",
      "mimetype": "text/x-python",
      "name": "python",
      "nbconvert_exporter": "python",
      "pygments_lexer": "ipython3",
      "version": "3.9.12"
    }
  },
  "nbformat": 4,
  "nbformat_minor": 0
}