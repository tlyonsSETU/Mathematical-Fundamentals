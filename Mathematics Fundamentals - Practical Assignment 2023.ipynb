{
  "cells": [
    {
      "cell_type": "markdown",
      "metadata": {
        "id": "view-in-github",
        "colab_type": "text"
      },
      "source": [
        "<a href=\"https://colab.research.google.com/github/tlyonsSETU/Mathematical-Fundamentals/blob/main/Mathematics%20Fundamentals%20-%20Practical%20Assignment%202023.ipynb\" target=\"_parent\"><img src=\"https://colab.research.google.com/assets/colab-badge.svg\" alt=\"Open In Colab\"/></a>"
      ]
    },
    {
      "cell_type": "markdown",
      "metadata": {
        "collapsed": true,
        "id": "c_3_zOKaqFM_"
      },
      "source": [
        "# Mathematics Fundamentals - Practical Assignemt 2023\n",
        "\n",
        "\n",
        "\n",
        "\n",
        "## BSc Computing (ACCS) - Year 1\n",
        "\n",
        "# South East Technological University - Waterford\n",
        "\n",
        "---\n"
      ]
    },
    {
      "cell_type": "code",
      "source": [
        "import matplotlib.pyplot as plt  ## Library of functions for 2D plotting\n",
        "import numpy as np ## Library of function for numerical work\n",
        "\n",
        "from numpy.linalg import det,inv # For calculating determinants and matrix inverses\n",
        "\n",
        "from google.colab import files # For downloading figures\n",
        "\n",
        "from numpy import log, exp\n",
        "\n",
        "from scipy.optimize import fsolve"
      ],
      "metadata": {
        "id": "D9e0d7RvmKoB"
      },
      "execution_count": null,
      "outputs": []
    },
    {
      "cell_type": "markdown",
      "source": [
        "---\n",
        "---"
      ],
      "metadata": {
        "id": "EW01jfasoI-5"
      }
    },
    {
      "cell_type": "markdown",
      "metadata": {
        "id": "01mAAaYV5WAM"
      },
      "source": [
        "# Question 1\n",
        "\n",
        "* A sum of €23500 was deposited in a bank account in 2018 with an interest rate $4.8\\%$ per annum.\n",
        "\n",
        "* The total sum in the bank at time $t$ is\n",
        "$$\n",
        "S(t) = € 23500e^{0.048 t}\n",
        "$$\n",
        "where $t$ is the time in years since 2018.\n",
        "\n",
        "* Given this inforomation, use Python to answer the following:"
      ]
    },
    {
      "cell_type": "markdown",
      "metadata": {
        "id": "mmWPdMeCqFNH"
      },
      "source": [
        "## Part a)\n",
        "\n",
        "* USe __def__ to define a python function to represent __S(t)__ given above.  "
      ]
    },
    {
      "cell_type": "code",
      "execution_count": null,
      "metadata": {
        "id": "7Qk8SxWnqFNJ"
      },
      "outputs": [],
      "source": []
    },
    {
      "cell_type": "code",
      "source": [],
      "metadata": {
        "id": "eL9Ybb0UoHWR"
      },
      "execution_count": null,
      "outputs": []
    },
    {
      "cell_type": "code",
      "source": [],
      "metadata": {
        "id": "Y0b3VToGoHLo"
      },
      "execution_count": null,
      "outputs": []
    },
    {
      "cell_type": "markdown",
      "metadata": {
        "id": "-AxgXKv9mDvM"
      },
      "source": [
        "## Part b)\n",
        "\n",
        "\n",
        "* Use the Python function defined in __Part a)__ to find the sum in the bank account in\n",
        "\n",
        "  i. 2020\n",
        "\n",
        "  ii. 2023\n",
        "\n",
        "  iii. 2028"
      ]
    },
    {
      "cell_type": "code",
      "execution_count": null,
      "metadata": {
        "id": "gojmfdvQ_3GM"
      },
      "outputs": [],
      "source": []
    },
    {
      "cell_type": "code",
      "source": [],
      "metadata": {
        "id": "m4QzM7VEoBG5"
      },
      "execution_count": null,
      "outputs": []
    },
    {
      "cell_type": "code",
      "source": [],
      "metadata": {
        "id": "CmNk58EioA80"
      },
      "execution_count": null,
      "outputs": []
    },
    {
      "cell_type": "markdown",
      "source": [
        "## Part c)\n",
        "\n",
        "* Use the __fsolve()__ function to find the year when\n",
        "$$\n",
        "S(t) = €26550\n",
        "$$"
      ],
      "metadata": {
        "id": "ryE0ft-knJU6"
      }
    },
    {
      "cell_type": "code",
      "source": [],
      "metadata": {
        "id": "h7oTrC_xU5rM"
      },
      "execution_count": null,
      "outputs": []
    },
    {
      "cell_type": "code",
      "source": [],
      "metadata": {
        "id": "PKD9Z24zU5ld"
      },
      "execution_count": null,
      "outputs": []
    },
    {
      "cell_type": "code",
      "source": [],
      "metadata": {
        "id": "l_4kR9DcU5hG"
      },
      "execution_count": null,
      "outputs": []
    },
    {
      "cell_type": "markdown",
      "source": [
        "## Part d)\n",
        "\n",
        "* Use __plt.plot()__ to plot the graph of $S(t)$ over the time interval $0\\leq t \\leq 18$."
      ],
      "metadata": {
        "id": "NJ8KUn30oMk8"
      }
    },
    {
      "cell_type": "code",
      "source": [],
      "metadata": {
        "id": "gBnF5lRkU5e9"
      },
      "execution_count": null,
      "outputs": []
    },
    {
      "cell_type": "code",
      "source": [],
      "metadata": {
        "id": "07oVS2uBU5ct"
      },
      "execution_count": null,
      "outputs": []
    },
    {
      "cell_type": "code",
      "source": [],
      "metadata": {
        "id": "x941S9hYXJ3_"
      },
      "execution_count": null,
      "outputs": []
    },
    {
      "cell_type": "code",
      "source": [],
      "metadata": {
        "id": "u4LcnPQsXJ1Z"
      },
      "execution_count": null,
      "outputs": []
    }
  ],
  "metadata": {
    "anaconda-cloud": {},
    "colab": {
      "provenance": [],
      "include_colab_link": true
    },
    "kernelspec": {
      "display_name": "Python 3 (ipykernel)",
      "language": "python",
      "name": "python3"
    },
    "language_info": {
      "codemirror_mode": {
        "name": "ipython",
        "version": 3
      },
      "file_extension": ".py",
      "mimetype": "text/x-python",
      "name": "python",
      "nbconvert_exporter": "python",
      "pygments_lexer": "ipython3",
      "version": "3.9.12"
    }
  },
  "nbformat": 4,
  "nbformat_minor": 0
}